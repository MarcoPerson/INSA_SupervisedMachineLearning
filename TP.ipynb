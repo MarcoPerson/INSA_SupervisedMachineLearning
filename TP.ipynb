{
 "cells": [
  {
   "cell_type": "markdown",
   "metadata": {},
   "source": [
    "# <span style=\"color: green\">TP1 : Apprentissage supervisé</span>"
   ]
  },
  {
   "cell_type": "markdown",
   "metadata": {},
   "source": [
    "# Selection des données \n"
   ]
  },
  {
   "cell_type": "code",
   "execution_count": 107,
   "metadata": {},
   "outputs": [],
   "source": [
    "import pandas as pd\n",
    "import numpy as np\n",
    "from sklearn.utils import shuffle\n",
    "from sklearn.model_selection import train_test_split\n",
    "\n",
    "dir = \"\"\n",
    "featuresFileName = \"acsincome_ca_features.csv\"\n",
    "labelsFileName = \"acsincome_ca_labels.csv\"\n",
    "\n",
    "features = pd.read_csv(dir+featuresFileName)\n",
    "labels = pd.read_csv(dir+labelsFileName)\n"
   ]
  },
  {
   "cell_type": "markdown",
   "metadata": {},
   "source": [
    "# Standardisation des données"
   ]
  },
  {
   "cell_type": "code",
   "execution_count": 108,
   "metadata": {},
   "outputs": [],
   "source": [
    "from sklearn.preprocessing import StandardScaler\n",
    "\n",
    "sc = StandardScaler()\n",
    "X_all = sc.fit_transform(features)"
   ]
  },
  {
   "cell_type": "markdown",
   "metadata": {},
   "source": [
    "# Séparation en train set et test set"
   ]
  },
  {
   "cell_type": "code",
   "execution_count": 109,
   "metadata": {},
   "outputs": [],
   "source": [
    "X_all, y_all = shuffle(features,labels,random_state = 1)\n",
    "\n",
    "num_samples = int(len(X_all)*0.01)\n",
    "X, y = X_all[:num_samples], y_all[:num_samples]\n",
    "\n",
    "\n",
    "X_train, X_test, y_train, y_test = train_test_split(X, y, test_size=0.2, random_state=123)"
   ]
  },
  {
   "cell_type": "markdown",
   "metadata": {},
   "source": [
    "# Fonctions pour l'evaluation des models"
   ]
  },
  {
   "cell_type": "code",
   "execution_count": 35,
   "metadata": {},
   "outputs": [],
   "source": [
    "from sklearn.metrics import confusion_matrix\n",
    "from sklearn.metrics import classification_report\n",
    "from sklearn.model_selection import cross_val_score\n",
    "\n",
    "\n",
    "def displayAcuracyScore(model, X_train, y_train, X_test, y_test):\n",
    "    print(\"Train score : \",model.score(X_train,y_train))\n",
    "    print(\"Test score : \",model.score(X_test,y_test))\n",
    "\n",
    "def displayClassificationReport(model, X_test, y_test):\n",
    "    y_pred = model.predict(X_test)\n",
    "    classificationReport = classification_report(y_test,y_pred)\n",
    "    print(\"Classification report :\\n\",classificationReport)\n",
    "\n",
    "def displayConfusionMatrix(model, X_test, y_test):\n",
    "    y_pred = model.predict(X_test)\n",
    "    confusionMatrix = confusion_matrix(y_test,y_pred)\n",
    "    print(\"Confusion Matrix :\\n \",confusionMatrix)\n",
    "\n",
    "def displayCrossValidationScore(model, X, y):\n",
    "    scores = cross_val_score(model, X, np.ravel(y))\n",
    "    print(\"Cross-Validation Scores :\\n\", scores)\n",
    "    print(\"Mean Cross-Validation Score :\\n\", scores.mean())\n",
    "    print(\"Standard Deviation of Cross-Validation Scores :\\n\", scores.std())"
   ]
  },
  {
   "cell_type": "markdown",
   "metadata": {},
   "source": [
    "# Cas direct du RandomForest et des SVM"
   ]
  },
  {
   "cell_type": "markdown",
   "metadata": {},
   "source": [
    "### Model Random Forest Classifier "
   ]
  },
  {
   "cell_type": "code",
   "execution_count": 15,
   "metadata": {},
   "outputs": [],
   "source": [
    "# import the regressor\n",
    "from sklearn.ensemble import RandomForestClassifier"
   ]
  },
  {
   "cell_type": "code",
   "execution_count": 16,
   "metadata": {},
   "outputs": [
    {
     "data": {
      "text/html": [
       "<style>#sk-container-id-3 {color: black;}#sk-container-id-3 pre{padding: 0;}#sk-container-id-3 div.sk-toggleable {background-color: white;}#sk-container-id-3 label.sk-toggleable__label {cursor: pointer;display: block;width: 100%;margin-bottom: 0;padding: 0.3em;box-sizing: border-box;text-align: center;}#sk-container-id-3 label.sk-toggleable__label-arrow:before {content: \"▸\";float: left;margin-right: 0.25em;color: #696969;}#sk-container-id-3 label.sk-toggleable__label-arrow:hover:before {color: black;}#sk-container-id-3 div.sk-estimator:hover label.sk-toggleable__label-arrow:before {color: black;}#sk-container-id-3 div.sk-toggleable__content {max-height: 0;max-width: 0;overflow: hidden;text-align: left;background-color: #f0f8ff;}#sk-container-id-3 div.sk-toggleable__content pre {margin: 0.2em;color: black;border-radius: 0.25em;background-color: #f0f8ff;}#sk-container-id-3 input.sk-toggleable__control:checked~div.sk-toggleable__content {max-height: 200px;max-width: 100%;overflow: auto;}#sk-container-id-3 input.sk-toggleable__control:checked~label.sk-toggleable__label-arrow:before {content: \"▾\";}#sk-container-id-3 div.sk-estimator input.sk-toggleable__control:checked~label.sk-toggleable__label {background-color: #d4ebff;}#sk-container-id-3 div.sk-label input.sk-toggleable__control:checked~label.sk-toggleable__label {background-color: #d4ebff;}#sk-container-id-3 input.sk-hidden--visually {border: 0;clip: rect(1px 1px 1px 1px);clip: rect(1px, 1px, 1px, 1px);height: 1px;margin: -1px;overflow: hidden;padding: 0;position: absolute;width: 1px;}#sk-container-id-3 div.sk-estimator {font-family: monospace;background-color: #f0f8ff;border: 1px dotted black;border-radius: 0.25em;box-sizing: border-box;margin-bottom: 0.5em;}#sk-container-id-3 div.sk-estimator:hover {background-color: #d4ebff;}#sk-container-id-3 div.sk-parallel-item::after {content: \"\";width: 100%;border-bottom: 1px solid gray;flex-grow: 1;}#sk-container-id-3 div.sk-label:hover label.sk-toggleable__label {background-color: #d4ebff;}#sk-container-id-3 div.sk-serial::before {content: \"\";position: absolute;border-left: 1px solid gray;box-sizing: border-box;top: 0;bottom: 0;left: 50%;z-index: 0;}#sk-container-id-3 div.sk-serial {display: flex;flex-direction: column;align-items: center;background-color: white;padding-right: 0.2em;padding-left: 0.2em;position: relative;}#sk-container-id-3 div.sk-item {position: relative;z-index: 1;}#sk-container-id-3 div.sk-parallel {display: flex;align-items: stretch;justify-content: center;background-color: white;position: relative;}#sk-container-id-3 div.sk-item::before, #sk-container-id-3 div.sk-parallel-item::before {content: \"\";position: absolute;border-left: 1px solid gray;box-sizing: border-box;top: 0;bottom: 0;left: 50%;z-index: -1;}#sk-container-id-3 div.sk-parallel-item {display: flex;flex-direction: column;z-index: 1;position: relative;background-color: white;}#sk-container-id-3 div.sk-parallel-item:first-child::after {align-self: flex-end;width: 50%;}#sk-container-id-3 div.sk-parallel-item:last-child::after {align-self: flex-start;width: 50%;}#sk-container-id-3 div.sk-parallel-item:only-child::after {width: 0;}#sk-container-id-3 div.sk-dashed-wrapped {border: 1px dashed gray;margin: 0 0.4em 0.5em 0.4em;box-sizing: border-box;padding-bottom: 0.4em;background-color: white;}#sk-container-id-3 div.sk-label label {font-family: monospace;font-weight: bold;display: inline-block;line-height: 1.2em;}#sk-container-id-3 div.sk-label-container {text-align: center;}#sk-container-id-3 div.sk-container {/* jupyter's `normalize.less` sets `[hidden] { display: none; }` but bootstrap.min.css set `[hidden] { display: none !important; }` so we also need the `!important` here to be able to override the default hidden behavior on the sphinx rendered scikit-learn.org. See: https://github.com/scikit-learn/scikit-learn/issues/21755 */display: inline-block !important;position: relative;}#sk-container-id-3 div.sk-text-repr-fallback {display: none;}</style><div id=\"sk-container-id-3\" class=\"sk-top-container\"><div class=\"sk-text-repr-fallback\"><pre>RandomForestClassifier(n_estimators=110)</pre><b>In a Jupyter environment, please rerun this cell to show the HTML representation or trust the notebook. <br />On GitHub, the HTML representation is unable to render, please try loading this page with nbviewer.org.</b></div><div class=\"sk-container\" hidden><div class=\"sk-item\"><div class=\"sk-estimator sk-toggleable\"><input class=\"sk-toggleable__control sk-hidden--visually\" id=\"sk-estimator-id-3\" type=\"checkbox\" checked><label for=\"sk-estimator-id-3\" class=\"sk-toggleable__label sk-toggleable__label-arrow\">RandomForestClassifier</label><div class=\"sk-toggleable__content\"><pre>RandomForestClassifier(n_estimators=110)</pre></div></div></div></div></div>"
      ],
      "text/plain": [
       "RandomForestClassifier(n_estimators=110)"
      ]
     },
     "execution_count": 16,
     "metadata": {},
     "output_type": "execute_result"
    }
   ],
   "source": [
    "\n",
    "# create regressor object\n",
    "classifier = RandomForestClassifier(n_estimators=110,bootstrap=True)\n",
    " \n",
    "# fit the regressor with x and y data\n",
    "classifier.fit(X_train, np.ravel(y_train))"
   ]
  },
  {
   "cell_type": "markdown",
   "metadata": {},
   "source": [
    "### Evaluation "
   ]
  },
  {
   "cell_type": "code",
   "execution_count": 17,
   "metadata": {},
   "outputs": [
    {
     "name": "stdout",
     "output_type": "stream",
     "text": [
      "Train score :  1.0\n",
      "Test score :  0.7882653061224489\n",
      "Classification report :\n",
      "               precision    recall  f1-score   support\n",
      "\n",
      "       False       0.83      0.80      0.82       230\n",
      "        True       0.73      0.77      0.75       162\n",
      "\n",
      "    accuracy                           0.79       392\n",
      "   macro avg       0.78      0.79      0.78       392\n",
      "weighted avg       0.79      0.79      0.79       392\n",
      "\n",
      "Confusion Matrix :\n",
      "  [[184  46]\n",
      " [ 37 125]]\n",
      "Cross-Validation Scores :\n",
      " [0.79233227 0.78913738 0.79552716 0.80191693 0.75320513]\n",
      "Mean Cross-Validation Score :\n",
      " 0.7864237732448595\n",
      "Standard Deviation of Cross-Validation Scores :\n",
      " 0.017138622695581494\n"
     ]
    }
   ],
   "source": [
    "# Accuracy\n",
    "displayAcuracyScore(classifier, X_train, y_train, X_test, y_test)\n",
    "\n",
    "# Classification_report\n",
    "displayClassificationReport(classifier, X_test, y_test)\n",
    "\n",
    "# Confusion matrix\n",
    "displayConfusionMatrix(classifier, X_test, y_test)\n",
    "\n",
    "# Cross-Validation\n",
    "displayCrossValidationScore(classifier, X_train, y_train)"
   ]
  },
  {
   "cell_type": "markdown",
   "metadata": {},
   "source": [
    "### Model SVM Classifer"
   ]
  },
  {
   "cell_type": "code",
   "execution_count": 21,
   "metadata": {},
   "outputs": [],
   "source": [
    "from sklearn import svm"
   ]
  },
  {
   "cell_type": "code",
   "execution_count": 29,
   "metadata": {},
   "outputs": [],
   "source": [
    "svmClassifierLinear = svm.SVC(kernel = 'linear', random_state = 111, C=1.0)\n",
    "svmClassifierPoly = svm.SVC(kernel ='poly', random_state = 111, C=10, degree=2)\n",
    "svmClassifierRbf = svm.SVC(kernel = 'rbf', random_state = 111, C=1.0)\n",
    "svmClassifierSig = svm.SVC(kernel = 'sigmoid', random_state = 111, C=1.0)"
   ]
  },
  {
   "cell_type": "code",
   "execution_count": 30,
   "metadata": {},
   "outputs": [
    {
     "data": {
      "text/html": [
       "<style>#sk-container-id-5 {color: black;}#sk-container-id-5 pre{padding: 0;}#sk-container-id-5 div.sk-toggleable {background-color: white;}#sk-container-id-5 label.sk-toggleable__label {cursor: pointer;display: block;width: 100%;margin-bottom: 0;padding: 0.3em;box-sizing: border-box;text-align: center;}#sk-container-id-5 label.sk-toggleable__label-arrow:before {content: \"▸\";float: left;margin-right: 0.25em;color: #696969;}#sk-container-id-5 label.sk-toggleable__label-arrow:hover:before {color: black;}#sk-container-id-5 div.sk-estimator:hover label.sk-toggleable__label-arrow:before {color: black;}#sk-container-id-5 div.sk-toggleable__content {max-height: 0;max-width: 0;overflow: hidden;text-align: left;background-color: #f0f8ff;}#sk-container-id-5 div.sk-toggleable__content pre {margin: 0.2em;color: black;border-radius: 0.25em;background-color: #f0f8ff;}#sk-container-id-5 input.sk-toggleable__control:checked~div.sk-toggleable__content {max-height: 200px;max-width: 100%;overflow: auto;}#sk-container-id-5 input.sk-toggleable__control:checked~label.sk-toggleable__label-arrow:before {content: \"▾\";}#sk-container-id-5 div.sk-estimator input.sk-toggleable__control:checked~label.sk-toggleable__label {background-color: #d4ebff;}#sk-container-id-5 div.sk-label input.sk-toggleable__control:checked~label.sk-toggleable__label {background-color: #d4ebff;}#sk-container-id-5 input.sk-hidden--visually {border: 0;clip: rect(1px 1px 1px 1px);clip: rect(1px, 1px, 1px, 1px);height: 1px;margin: -1px;overflow: hidden;padding: 0;position: absolute;width: 1px;}#sk-container-id-5 div.sk-estimator {font-family: monospace;background-color: #f0f8ff;border: 1px dotted black;border-radius: 0.25em;box-sizing: border-box;margin-bottom: 0.5em;}#sk-container-id-5 div.sk-estimator:hover {background-color: #d4ebff;}#sk-container-id-5 div.sk-parallel-item::after {content: \"\";width: 100%;border-bottom: 1px solid gray;flex-grow: 1;}#sk-container-id-5 div.sk-label:hover label.sk-toggleable__label {background-color: #d4ebff;}#sk-container-id-5 div.sk-serial::before {content: \"\";position: absolute;border-left: 1px solid gray;box-sizing: border-box;top: 0;bottom: 0;left: 50%;z-index: 0;}#sk-container-id-5 div.sk-serial {display: flex;flex-direction: column;align-items: center;background-color: white;padding-right: 0.2em;padding-left: 0.2em;position: relative;}#sk-container-id-5 div.sk-item {position: relative;z-index: 1;}#sk-container-id-5 div.sk-parallel {display: flex;align-items: stretch;justify-content: center;background-color: white;position: relative;}#sk-container-id-5 div.sk-item::before, #sk-container-id-5 div.sk-parallel-item::before {content: \"\";position: absolute;border-left: 1px solid gray;box-sizing: border-box;top: 0;bottom: 0;left: 50%;z-index: -1;}#sk-container-id-5 div.sk-parallel-item {display: flex;flex-direction: column;z-index: 1;position: relative;background-color: white;}#sk-container-id-5 div.sk-parallel-item:first-child::after {align-self: flex-end;width: 50%;}#sk-container-id-5 div.sk-parallel-item:last-child::after {align-self: flex-start;width: 50%;}#sk-container-id-5 div.sk-parallel-item:only-child::after {width: 0;}#sk-container-id-5 div.sk-dashed-wrapped {border: 1px dashed gray;margin: 0 0.4em 0.5em 0.4em;box-sizing: border-box;padding-bottom: 0.4em;background-color: white;}#sk-container-id-5 div.sk-label label {font-family: monospace;font-weight: bold;display: inline-block;line-height: 1.2em;}#sk-container-id-5 div.sk-label-container {text-align: center;}#sk-container-id-5 div.sk-container {/* jupyter's `normalize.less` sets `[hidden] { display: none; }` but bootstrap.min.css set `[hidden] { display: none !important; }` so we also need the `!important` here to be able to override the default hidden behavior on the sphinx rendered scikit-learn.org. See: https://github.com/scikit-learn/scikit-learn/issues/21755 */display: inline-block !important;position: relative;}#sk-container-id-5 div.sk-text-repr-fallback {display: none;}</style><div id=\"sk-container-id-5\" class=\"sk-top-container\"><div class=\"sk-text-repr-fallback\"><pre>SVC(random_state=111)</pre><b>In a Jupyter environment, please rerun this cell to show the HTML representation or trust the notebook. <br />On GitHub, the HTML representation is unable to render, please try loading this page with nbviewer.org.</b></div><div class=\"sk-container\" hidden><div class=\"sk-item\"><div class=\"sk-estimator sk-toggleable\"><input class=\"sk-toggleable__control sk-hidden--visually\" id=\"sk-estimator-id-5\" type=\"checkbox\" checked><label for=\"sk-estimator-id-5\" class=\"sk-toggleable__label sk-toggleable__label-arrow\">SVC</label><div class=\"sk-toggleable__content\"><pre>SVC(random_state=111)</pre></div></div></div></div></div>"
      ],
      "text/plain": [
       "SVC(random_state=111)"
      ]
     },
     "execution_count": 30,
     "metadata": {},
     "output_type": "execute_result"
    }
   ],
   "source": [
    "svmClassifierSig.fit(X_train, np.ravel(y_train))\n",
    "svmClassifierLinear.fit(X_train, np.ravel(y_train))\n",
    "svmClassifierPoly.fit(X_train, np.ravel(y_train))\n",
    "svmClassifierRbf.fit(X_train, np.ravel(y_train))"
   ]
  },
  {
   "cell_type": "code",
   "execution_count": 37,
   "metadata": {},
   "outputs": [
    {
     "name": "stdout",
     "output_type": "stream",
     "text": [
      "Sigmoid Kernel\n",
      "Train score :  0.571611253196931\n",
      "Test score :  0.5663265306122449\n",
      "Classification report :\n",
      "               precision    recall  f1-score   support\n",
      "\n",
      "       False       0.64      0.61      0.62       230\n",
      "        True       0.48      0.51      0.49       162\n",
      "\n",
      "    accuracy                           0.57       392\n",
      "   macro avg       0.56      0.56      0.56       392\n",
      "weighted avg       0.57      0.57      0.57       392\n",
      "\n",
      "Confusion Matrix :\n",
      "  [[140  90]\n",
      " [ 80  82]]\n",
      "Cross-Validation Scores :\n",
      " [0.54313099 0.58146965 0.57188498 0.58785942 0.69551282]\n",
      "Mean Cross-Validation Score :\n",
      " 0.5959715736872286\n",
      "Standard Deviation of Cross-Validation Scores :\n",
      " 0.05207084338012114\n"
     ]
    }
   ],
   "source": [
    "# Sigmoid Kernel\n",
    "print(\"Sigmoid Kernel\")\n",
    "displayAcuracyScore(svmClassifierSig, X_train, y_train, X_test, y_test)\n",
    "displayClassificationReport(svmClassifierSig, X_test, y_test)\n",
    "displayConfusionMatrix(svmClassifierSig, X_test, y_test)\n",
    "displayCrossValidationScore(svmClassifierSig, X_train, y_train)"
   ]
  },
  {
   "cell_type": "code",
   "execution_count": 38,
   "metadata": {},
   "outputs": [
    {
     "name": "stdout",
     "output_type": "stream",
     "text": [
      "Linear Kernel\n",
      "Train score :  0.7832480818414322\n",
      "Test score :  0.7627551020408163\n",
      "Classification report :\n",
      "               precision    recall  f1-score   support\n",
      "\n",
      "       False       0.75      0.89      0.81       230\n",
      "        True       0.79      0.59      0.67       162\n",
      "\n",
      "    accuracy                           0.76       392\n",
      "   macro avg       0.77      0.74      0.74       392\n",
      "weighted avg       0.77      0.76      0.76       392\n",
      "\n",
      "Confusion Matrix :\n",
      "  [[204  26]\n",
      " [ 67  95]]\n",
      "Cross-Validation Scores :\n",
      " [0.77635783 0.76357827 0.77955272 0.77955272 0.75961538]\n",
      "Mean Cross-Validation Score :\n",
      " 0.7717313836323421\n",
      "Standard Deviation of Cross-Validation Scores :\n",
      " 0.00845010139952901\n"
     ]
    }
   ],
   "source": [
    "# Linear Kernel\n",
    "print(\"Linear Kernel\")\n",
    "displayAcuracyScore(svmClassifierLinear, X_train, y_train, X_test, y_test)\n",
    "displayClassificationReport(svmClassifierLinear, X_test, y_test)\n",
    "displayConfusionMatrix(svmClassifierLinear, X_test, y_test)\n",
    "displayCrossValidationScore(svmClassifierLinear, X_train, y_train)"
   ]
  },
  {
   "cell_type": "code",
   "execution_count": 39,
   "metadata": {},
   "outputs": [
    {
     "name": "stdout",
     "output_type": "stream",
     "text": [
      "Poly Kernel\n",
      "Train score :  0.7199488491048593\n",
      "Test score :  0.7117346938775511\n",
      "Classification report :\n",
      "               precision    recall  f1-score   support\n",
      "\n",
      "       False       0.76      0.73      0.75       230\n",
      "        True       0.64      0.68      0.66       162\n",
      "\n",
      "    accuracy                           0.71       392\n",
      "   macro avg       0.70      0.71      0.71       392\n",
      "weighted avg       0.71      0.71      0.71       392\n",
      "\n",
      "Confusion Matrix :\n",
      "  [[169  61]\n",
      " [ 52 110]]\n",
      "Cross-Validation Scores :\n",
      " [0.69648562 0.69968051 0.74121406 0.68051118 0.74679487]\n",
      "Mean Cross-Validation Score :\n",
      " 0.7129372491193577\n",
      "Standard Deviation of Cross-Validation Scores :\n",
      " 0.02624409811851844\n"
     ]
    }
   ],
   "source": [
    "# Poly Kernel\n",
    "print(\"Poly Kernel\")\n",
    "displayAcuracyScore(svmClassifierPoly, X_train, y_train, X_test, y_test)\n",
    "displayClassificationReport(svmClassifierPoly, X_test, y_test)\n",
    "displayConfusionMatrix(svmClassifierPoly, X_test, y_test)\n",
    "displayCrossValidationScore(svmClassifierPoly, X_train, y_train)"
   ]
  },
  {
   "cell_type": "code",
   "execution_count": 40,
   "metadata": {},
   "outputs": [
    {
     "name": "stdout",
     "output_type": "stream",
     "text": [
      "Rbf Kernel\n",
      "Train score :  0.7199488491048593\n",
      "Test score :  0.7066326530612245\n",
      "Classification report :\n",
      "               precision    recall  f1-score   support\n",
      "\n",
      "       False       0.72      0.83      0.77       230\n",
      "        True       0.69      0.53      0.60       162\n",
      "\n",
      "    accuracy                           0.71       392\n",
      "   macro avg       0.70      0.68      0.68       392\n",
      "weighted avg       0.70      0.71      0.70       392\n",
      "\n",
      "Confusion Matrix :\n",
      "  [[191  39]\n",
      " [ 76  86]]\n",
      "Cross-Validation Scores :\n",
      " [0.72204473 0.71565495 0.73801917 0.69968051 0.73076923]\n",
      "Mean Cross-Validation Score :\n",
      " 0.7212337183583191\n",
      "Standard Deviation of Cross-Validation Scores :\n",
      " 0.013183311203030594\n"
     ]
    }
   ],
   "source": [
    "# Rbf Kernel\n",
    "print(\"Rbf Kernel\")\n",
    "displayAcuracyScore(svmClassifierRbf, X_train, y_train, X_test, y_test)\n",
    "displayClassificationReport(svmClassifierRbf, X_test, y_test)\n",
    "displayConfusionMatrix(svmClassifierRbf, X_test, y_test)\n",
    "displayCrossValidationScore(svmClassifierRbf, X_train, y_train)"
   ]
  },
  {
   "cell_type": "markdown",
   "metadata": {},
   "source": [
    "# GridSeachCV"
   ]
  },
  {
   "cell_type": "markdown",
   "metadata": {},
   "source": [
    "### RandomForest"
   ]
  },
  {
   "cell_type": "code",
   "execution_count": 12,
   "metadata": {},
   "outputs": [],
   "source": [
    "from sklearn.model_selection import GridSearchCV "
   ]
  },
  {
   "cell_type": "code",
   "execution_count": 23,
   "metadata": {},
   "outputs": [
    {
     "data": {
      "text/html": [
       "<style>#sk-container-id-6 {color: black;}#sk-container-id-6 pre{padding: 0;}#sk-container-id-6 div.sk-toggleable {background-color: white;}#sk-container-id-6 label.sk-toggleable__label {cursor: pointer;display: block;width: 100%;margin-bottom: 0;padding: 0.3em;box-sizing: border-box;text-align: center;}#sk-container-id-6 label.sk-toggleable__label-arrow:before {content: \"▸\";float: left;margin-right: 0.25em;color: #696969;}#sk-container-id-6 label.sk-toggleable__label-arrow:hover:before {color: black;}#sk-container-id-6 div.sk-estimator:hover label.sk-toggleable__label-arrow:before {color: black;}#sk-container-id-6 div.sk-toggleable__content {max-height: 0;max-width: 0;overflow: hidden;text-align: left;background-color: #f0f8ff;}#sk-container-id-6 div.sk-toggleable__content pre {margin: 0.2em;color: black;border-radius: 0.25em;background-color: #f0f8ff;}#sk-container-id-6 input.sk-toggleable__control:checked~div.sk-toggleable__content {max-height: 200px;max-width: 100%;overflow: auto;}#sk-container-id-6 input.sk-toggleable__control:checked~label.sk-toggleable__label-arrow:before {content: \"▾\";}#sk-container-id-6 div.sk-estimator input.sk-toggleable__control:checked~label.sk-toggleable__label {background-color: #d4ebff;}#sk-container-id-6 div.sk-label input.sk-toggleable__control:checked~label.sk-toggleable__label {background-color: #d4ebff;}#sk-container-id-6 input.sk-hidden--visually {border: 0;clip: rect(1px 1px 1px 1px);clip: rect(1px, 1px, 1px, 1px);height: 1px;margin: -1px;overflow: hidden;padding: 0;position: absolute;width: 1px;}#sk-container-id-6 div.sk-estimator {font-family: monospace;background-color: #f0f8ff;border: 1px dotted black;border-radius: 0.25em;box-sizing: border-box;margin-bottom: 0.5em;}#sk-container-id-6 div.sk-estimator:hover {background-color: #d4ebff;}#sk-container-id-6 div.sk-parallel-item::after {content: \"\";width: 100%;border-bottom: 1px solid gray;flex-grow: 1;}#sk-container-id-6 div.sk-label:hover label.sk-toggleable__label {background-color: #d4ebff;}#sk-container-id-6 div.sk-serial::before {content: \"\";position: absolute;border-left: 1px solid gray;box-sizing: border-box;top: 0;bottom: 0;left: 50%;z-index: 0;}#sk-container-id-6 div.sk-serial {display: flex;flex-direction: column;align-items: center;background-color: white;padding-right: 0.2em;padding-left: 0.2em;position: relative;}#sk-container-id-6 div.sk-item {position: relative;z-index: 1;}#sk-container-id-6 div.sk-parallel {display: flex;align-items: stretch;justify-content: center;background-color: white;position: relative;}#sk-container-id-6 div.sk-item::before, #sk-container-id-6 div.sk-parallel-item::before {content: \"\";position: absolute;border-left: 1px solid gray;box-sizing: border-box;top: 0;bottom: 0;left: 50%;z-index: -1;}#sk-container-id-6 div.sk-parallel-item {display: flex;flex-direction: column;z-index: 1;position: relative;background-color: white;}#sk-container-id-6 div.sk-parallel-item:first-child::after {align-self: flex-end;width: 50%;}#sk-container-id-6 div.sk-parallel-item:last-child::after {align-self: flex-start;width: 50%;}#sk-container-id-6 div.sk-parallel-item:only-child::after {width: 0;}#sk-container-id-6 div.sk-dashed-wrapped {border: 1px dashed gray;margin: 0 0.4em 0.5em 0.4em;box-sizing: border-box;padding-bottom: 0.4em;background-color: white;}#sk-container-id-6 div.sk-label label {font-family: monospace;font-weight: bold;display: inline-block;line-height: 1.2em;}#sk-container-id-6 div.sk-label-container {text-align: center;}#sk-container-id-6 div.sk-container {/* jupyter's `normalize.less` sets `[hidden] { display: none; }` but bootstrap.min.css set `[hidden] { display: none !important; }` so we also need the `!important` here to be able to override the default hidden behavior on the sphinx rendered scikit-learn.org. See: https://github.com/scikit-learn/scikit-learn/issues/21755 */display: inline-block !important;position: relative;}#sk-container-id-6 div.sk-text-repr-fallback {display: none;}</style><div id=\"sk-container-id-6\" class=\"sk-top-container\"><div class=\"sk-text-repr-fallback\"><pre>GridSearchCV(estimator=RandomForestClassifier(),\n",
       "             param_grid={&#x27;bootstrap&#x27;: [True, False],\n",
       "                         &#x27;max_depth&#x27;: [None, 10, 20, 30, 40],\n",
       "                         &#x27;max_features&#x27;: [&#x27;log2&#x27;, &#x27;sqrt&#x27;],\n",
       "                         &#x27;min_samples_split&#x27;: [2, 5, 10],\n",
       "                         &#x27;n_estimators&#x27;: [100, 110, 200]})</pre><b>In a Jupyter environment, please rerun this cell to show the HTML representation or trust the notebook. <br />On GitHub, the HTML representation is unable to render, please try loading this page with nbviewer.org.</b></div><div class=\"sk-container\" hidden><div class=\"sk-item sk-dashed-wrapped\"><div class=\"sk-label-container\"><div class=\"sk-label sk-toggleable\"><input class=\"sk-toggleable__control sk-hidden--visually\" id=\"sk-estimator-id-6\" type=\"checkbox\" ><label for=\"sk-estimator-id-6\" class=\"sk-toggleable__label sk-toggleable__label-arrow\">GridSearchCV</label><div class=\"sk-toggleable__content\"><pre>GridSearchCV(estimator=RandomForestClassifier(),\n",
       "             param_grid={&#x27;bootstrap&#x27;: [True, False],\n",
       "                         &#x27;max_depth&#x27;: [None, 10, 20, 30, 40],\n",
       "                         &#x27;max_features&#x27;: [&#x27;log2&#x27;, &#x27;sqrt&#x27;],\n",
       "                         &#x27;min_samples_split&#x27;: [2, 5, 10],\n",
       "                         &#x27;n_estimators&#x27;: [100, 110, 200]})</pre></div></div></div><div class=\"sk-parallel\"><div class=\"sk-parallel-item\"><div class=\"sk-item\"><div class=\"sk-label-container\"><div class=\"sk-label sk-toggleable\"><input class=\"sk-toggleable__control sk-hidden--visually\" id=\"sk-estimator-id-7\" type=\"checkbox\" ><label for=\"sk-estimator-id-7\" class=\"sk-toggleable__label sk-toggleable__label-arrow\">estimator: RandomForestClassifier</label><div class=\"sk-toggleable__content\"><pre>RandomForestClassifier()</pre></div></div></div><div class=\"sk-serial\"><div class=\"sk-item\"><div class=\"sk-estimator sk-toggleable\"><input class=\"sk-toggleable__control sk-hidden--visually\" id=\"sk-estimator-id-8\" type=\"checkbox\" ><label for=\"sk-estimator-id-8\" class=\"sk-toggleable__label sk-toggleable__label-arrow\">RandomForestClassifier</label><div class=\"sk-toggleable__content\"><pre>RandomForestClassifier()</pre></div></div></div></div></div></div></div></div></div></div>"
      ],
      "text/plain": [
       "GridSearchCV(estimator=RandomForestClassifier(),\n",
       "             param_grid={'bootstrap': [True, False],\n",
       "                         'max_depth': [None, 10, 20, 30, 40],\n",
       "                         'max_features': ['log2', 'sqrt'],\n",
       "                         'min_samples_split': [2, 5, 10],\n",
       "                         'n_estimators': [100, 110, 200]})"
      ]
     },
     "execution_count": 23,
     "metadata": {},
     "output_type": "execute_result"
    }
   ],
   "source": [
    "param_gridRF = {  \n",
    "    'n_estimators': [100,110,200],\n",
    "    'max_depth': [None,10, 20, 30, 40,],\n",
    "    'max_features': ['log2', 'sqrt'],\n",
    "     'min_samples_split': [2, 5, 10],\n",
    "    'bootstrap' : [True, False]\n",
    "}\n",
    "modelRF = RandomForestClassifier()\n",
    "RFGridSeach = GridSearchCV(modelRF,param_gridRF)\n",
    "RFGridSeach.fit(X_train, np.ravel(y_train))"
   ]
  },
  {
   "cell_type": "code",
   "execution_count": 24,
   "metadata": {},
   "outputs": [
    {
     "name": "stdout",
     "output_type": "stream",
     "text": [
      "Best Random Forest Estimator \n",
      " RandomForestClassifier(max_features='log2', min_samples_split=10,\n",
      "                       n_estimators=200)\n"
     ]
    }
   ],
   "source": [
    "print(\"Best Random Forest Estimator \\n\", RFGridSeach.best_estimator_)"
   ]
  },
  {
   "cell_type": "markdown",
   "metadata": {},
   "source": [
    "### SVM"
   ]
  },
  {
   "cell_type": "code",
   "execution_count": 9,
   "metadata": {},
   "outputs": [
    {
     "data": {
      "text/html": [
       "<style>#sk-container-id-1 {color: black;}#sk-container-id-1 pre{padding: 0;}#sk-container-id-1 div.sk-toggleable {background-color: white;}#sk-container-id-1 label.sk-toggleable__label {cursor: pointer;display: block;width: 100%;margin-bottom: 0;padding: 0.3em;box-sizing: border-box;text-align: center;}#sk-container-id-1 label.sk-toggleable__label-arrow:before {content: \"▸\";float: left;margin-right: 0.25em;color: #696969;}#sk-container-id-1 label.sk-toggleable__label-arrow:hover:before {color: black;}#sk-container-id-1 div.sk-estimator:hover label.sk-toggleable__label-arrow:before {color: black;}#sk-container-id-1 div.sk-toggleable__content {max-height: 0;max-width: 0;overflow: hidden;text-align: left;background-color: #f0f8ff;}#sk-container-id-1 div.sk-toggleable__content pre {margin: 0.2em;color: black;border-radius: 0.25em;background-color: #f0f8ff;}#sk-container-id-1 input.sk-toggleable__control:checked~div.sk-toggleable__content {max-height: 200px;max-width: 100%;overflow: auto;}#sk-container-id-1 input.sk-toggleable__control:checked~label.sk-toggleable__label-arrow:before {content: \"▾\";}#sk-container-id-1 div.sk-estimator input.sk-toggleable__control:checked~label.sk-toggleable__label {background-color: #d4ebff;}#sk-container-id-1 div.sk-label input.sk-toggleable__control:checked~label.sk-toggleable__label {background-color: #d4ebff;}#sk-container-id-1 input.sk-hidden--visually {border: 0;clip: rect(1px 1px 1px 1px);clip: rect(1px, 1px, 1px, 1px);height: 1px;margin: -1px;overflow: hidden;padding: 0;position: absolute;width: 1px;}#sk-container-id-1 div.sk-estimator {font-family: monospace;background-color: #f0f8ff;border: 1px dotted black;border-radius: 0.25em;box-sizing: border-box;margin-bottom: 0.5em;}#sk-container-id-1 div.sk-estimator:hover {background-color: #d4ebff;}#sk-container-id-1 div.sk-parallel-item::after {content: \"\";width: 100%;border-bottom: 1px solid gray;flex-grow: 1;}#sk-container-id-1 div.sk-label:hover label.sk-toggleable__label {background-color: #d4ebff;}#sk-container-id-1 div.sk-serial::before {content: \"\";position: absolute;border-left: 1px solid gray;box-sizing: border-box;top: 0;bottom: 0;left: 50%;z-index: 0;}#sk-container-id-1 div.sk-serial {display: flex;flex-direction: column;align-items: center;background-color: white;padding-right: 0.2em;padding-left: 0.2em;position: relative;}#sk-container-id-1 div.sk-item {position: relative;z-index: 1;}#sk-container-id-1 div.sk-parallel {display: flex;align-items: stretch;justify-content: center;background-color: white;position: relative;}#sk-container-id-1 div.sk-item::before, #sk-container-id-1 div.sk-parallel-item::before {content: \"\";position: absolute;border-left: 1px solid gray;box-sizing: border-box;top: 0;bottom: 0;left: 50%;z-index: -1;}#sk-container-id-1 div.sk-parallel-item {display: flex;flex-direction: column;z-index: 1;position: relative;background-color: white;}#sk-container-id-1 div.sk-parallel-item:first-child::after {align-self: flex-end;width: 50%;}#sk-container-id-1 div.sk-parallel-item:last-child::after {align-self: flex-start;width: 50%;}#sk-container-id-1 div.sk-parallel-item:only-child::after {width: 0;}#sk-container-id-1 div.sk-dashed-wrapped {border: 1px dashed gray;margin: 0 0.4em 0.5em 0.4em;box-sizing: border-box;padding-bottom: 0.4em;background-color: white;}#sk-container-id-1 div.sk-label label {font-family: monospace;font-weight: bold;display: inline-block;line-height: 1.2em;}#sk-container-id-1 div.sk-label-container {text-align: center;}#sk-container-id-1 div.sk-container {/* jupyter's `normalize.less` sets `[hidden] { display: none; }` but bootstrap.min.css set `[hidden] { display: none !important; }` so we also need the `!important` here to be able to override the default hidden behavior on the sphinx rendered scikit-learn.org. See: https://github.com/scikit-learn/scikit-learn/issues/21755 */display: inline-block !important;position: relative;}#sk-container-id-1 div.sk-text-repr-fallback {display: none;}</style><div id=\"sk-container-id-1\" class=\"sk-top-container\"><div class=\"sk-text-repr-fallback\"><pre>GridSearchCV(estimator=SVC(),\n",
       "             param_grid={&#x27;kernel&#x27;: [&#x27;rbf&#x27;, &#x27;sigmoid&#x27;, &#x27;poly&#x27;, &#x27;linear&#x27;]})</pre><b>In a Jupyter environment, please rerun this cell to show the HTML representation or trust the notebook. <br />On GitHub, the HTML representation is unable to render, please try loading this page with nbviewer.org.</b></div><div class=\"sk-container\" hidden><div class=\"sk-item sk-dashed-wrapped\"><div class=\"sk-label-container\"><div class=\"sk-label sk-toggleable\"><input class=\"sk-toggleable__control sk-hidden--visually\" id=\"sk-estimator-id-1\" type=\"checkbox\" ><label for=\"sk-estimator-id-1\" class=\"sk-toggleable__label sk-toggleable__label-arrow\">GridSearchCV</label><div class=\"sk-toggleable__content\"><pre>GridSearchCV(estimator=SVC(),\n",
       "             param_grid={&#x27;kernel&#x27;: [&#x27;rbf&#x27;, &#x27;sigmoid&#x27;, &#x27;poly&#x27;, &#x27;linear&#x27;]})</pre></div></div></div><div class=\"sk-parallel\"><div class=\"sk-parallel-item\"><div class=\"sk-item\"><div class=\"sk-label-container\"><div class=\"sk-label sk-toggleable\"><input class=\"sk-toggleable__control sk-hidden--visually\" id=\"sk-estimator-id-2\" type=\"checkbox\" ><label for=\"sk-estimator-id-2\" class=\"sk-toggleable__label sk-toggleable__label-arrow\">estimator: SVC</label><div class=\"sk-toggleable__content\"><pre>SVC()</pre></div></div></div><div class=\"sk-serial\"><div class=\"sk-item\"><div class=\"sk-estimator sk-toggleable\"><input class=\"sk-toggleable__control sk-hidden--visually\" id=\"sk-estimator-id-3\" type=\"checkbox\" ><label for=\"sk-estimator-id-3\" class=\"sk-toggleable__label sk-toggleable__label-arrow\">SVC</label><div class=\"sk-toggleable__content\"><pre>SVC()</pre></div></div></div></div></div></div></div></div></div></div>"
      ],
      "text/plain": [
       "GridSearchCV(estimator=SVC(),\n",
       "             param_grid={'kernel': ['rbf', 'sigmoid', 'poly', 'linear']})"
      ]
     },
     "execution_count": 9,
     "metadata": {},
     "output_type": "execute_result"
    }
   ],
   "source": [
    "param_gridSVM = {\n",
    "    #'C': [0.1, 1,2],  \n",
    "    #'gamma': [1, 0.1, 0.01], \n",
    "    'kernel': ['rbf','sigmoid','poly','linear']\n",
    "}  \n",
    "modelSVM = svm.SVC()\n",
    "SVMGrid = GridSearchCV(modelSVM, param_gridSVM) \n",
    "SVMGrid.fit(X_train, np.ravel(y_train))"
   ]
  },
  {
   "cell_type": "code",
   "execution_count": 11,
   "metadata": {},
   "outputs": [
    {
     "name": "stdout",
     "output_type": "stream",
     "text": [
      "Best Random SVM Estimator\n",
      " SVC(kernel='linear')\n"
     ]
    }
   ],
   "source": [
    "print(\"Best Random SVM Estimator\\n\", SVMGrid.best_estimator_)"
   ]
  },
  {
   "cell_type": "markdown",
   "metadata": {},
   "source": [
    "### AdaBoost"
   ]
  },
  {
   "cell_type": "code",
   "execution_count": 45,
   "metadata": {},
   "outputs": [],
   "source": [
    "from sklearn.ensemble import AdaBoostClassifier"
   ]
  },
  {
   "cell_type": "code",
   "execution_count": 10,
   "metadata": {},
   "outputs": [
    {
     "data": {
      "text/html": [
       "<style>#sk-container-id-1 {color: black;}#sk-container-id-1 pre{padding: 0;}#sk-container-id-1 div.sk-toggleable {background-color: white;}#sk-container-id-1 label.sk-toggleable__label {cursor: pointer;display: block;width: 100%;margin-bottom: 0;padding: 0.3em;box-sizing: border-box;text-align: center;}#sk-container-id-1 label.sk-toggleable__label-arrow:before {content: \"▸\";float: left;margin-right: 0.25em;color: #696969;}#sk-container-id-1 label.sk-toggleable__label-arrow:hover:before {color: black;}#sk-container-id-1 div.sk-estimator:hover label.sk-toggleable__label-arrow:before {color: black;}#sk-container-id-1 div.sk-toggleable__content {max-height: 0;max-width: 0;overflow: hidden;text-align: left;background-color: #f0f8ff;}#sk-container-id-1 div.sk-toggleable__content pre {margin: 0.2em;color: black;border-radius: 0.25em;background-color: #f0f8ff;}#sk-container-id-1 input.sk-toggleable__control:checked~div.sk-toggleable__content {max-height: 200px;max-width: 100%;overflow: auto;}#sk-container-id-1 input.sk-toggleable__control:checked~label.sk-toggleable__label-arrow:before {content: \"▾\";}#sk-container-id-1 div.sk-estimator input.sk-toggleable__control:checked~label.sk-toggleable__label {background-color: #d4ebff;}#sk-container-id-1 div.sk-label input.sk-toggleable__control:checked~label.sk-toggleable__label {background-color: #d4ebff;}#sk-container-id-1 input.sk-hidden--visually {border: 0;clip: rect(1px 1px 1px 1px);clip: rect(1px, 1px, 1px, 1px);height: 1px;margin: -1px;overflow: hidden;padding: 0;position: absolute;width: 1px;}#sk-container-id-1 div.sk-estimator {font-family: monospace;background-color: #f0f8ff;border: 1px dotted black;border-radius: 0.25em;box-sizing: border-box;margin-bottom: 0.5em;}#sk-container-id-1 div.sk-estimator:hover {background-color: #d4ebff;}#sk-container-id-1 div.sk-parallel-item::after {content: \"\";width: 100%;border-bottom: 1px solid gray;flex-grow: 1;}#sk-container-id-1 div.sk-label:hover label.sk-toggleable__label {background-color: #d4ebff;}#sk-container-id-1 div.sk-serial::before {content: \"\";position: absolute;border-left: 1px solid gray;box-sizing: border-box;top: 0;bottom: 0;left: 50%;z-index: 0;}#sk-container-id-1 div.sk-serial {display: flex;flex-direction: column;align-items: center;background-color: white;padding-right: 0.2em;padding-left: 0.2em;position: relative;}#sk-container-id-1 div.sk-item {position: relative;z-index: 1;}#sk-container-id-1 div.sk-parallel {display: flex;align-items: stretch;justify-content: center;background-color: white;position: relative;}#sk-container-id-1 div.sk-item::before, #sk-container-id-1 div.sk-parallel-item::before {content: \"\";position: absolute;border-left: 1px solid gray;box-sizing: border-box;top: 0;bottom: 0;left: 50%;z-index: -1;}#sk-container-id-1 div.sk-parallel-item {display: flex;flex-direction: column;z-index: 1;position: relative;background-color: white;}#sk-container-id-1 div.sk-parallel-item:first-child::after {align-self: flex-end;width: 50%;}#sk-container-id-1 div.sk-parallel-item:last-child::after {align-self: flex-start;width: 50%;}#sk-container-id-1 div.sk-parallel-item:only-child::after {width: 0;}#sk-container-id-1 div.sk-dashed-wrapped {border: 1px dashed gray;margin: 0 0.4em 0.5em 0.4em;box-sizing: border-box;padding-bottom: 0.4em;background-color: white;}#sk-container-id-1 div.sk-label label {font-family: monospace;font-weight: bold;display: inline-block;line-height: 1.2em;}#sk-container-id-1 div.sk-label-container {text-align: center;}#sk-container-id-1 div.sk-container {/* jupyter's `normalize.less` sets `[hidden] { display: none; }` but bootstrap.min.css set `[hidden] { display: none !important; }` so we also need the `!important` here to be able to override the default hidden behavior on the sphinx rendered scikit-learn.org. See: https://github.com/scikit-learn/scikit-learn/issues/21755 */display: inline-block !important;position: relative;}#sk-container-id-1 div.sk-text-repr-fallback {display: none;}</style><div id=\"sk-container-id-1\" class=\"sk-top-container\"><div class=\"sk-text-repr-fallback\"><pre>GridSearchCV(estimator=AdaBoostClassifier(),\n",
       "             param_grid={&#x27;learning_rate&#x27;: [0.01, 0.1],\n",
       "                         &#x27;n_estimators&#x27;: [10, 20, 30, 50]})</pre><b>In a Jupyter environment, please rerun this cell to show the HTML representation or trust the notebook. <br />On GitHub, the HTML representation is unable to render, please try loading this page with nbviewer.org.</b></div><div class=\"sk-container\" hidden><div class=\"sk-item sk-dashed-wrapped\"><div class=\"sk-label-container\"><div class=\"sk-label sk-toggleable\"><input class=\"sk-toggleable__control sk-hidden--visually\" id=\"sk-estimator-id-1\" type=\"checkbox\" ><label for=\"sk-estimator-id-1\" class=\"sk-toggleable__label sk-toggleable__label-arrow\">GridSearchCV</label><div class=\"sk-toggleable__content\"><pre>GridSearchCV(estimator=AdaBoostClassifier(),\n",
       "             param_grid={&#x27;learning_rate&#x27;: [0.01, 0.1],\n",
       "                         &#x27;n_estimators&#x27;: [10, 20, 30, 50]})</pre></div></div></div><div class=\"sk-parallel\"><div class=\"sk-parallel-item\"><div class=\"sk-item\"><div class=\"sk-label-container\"><div class=\"sk-label sk-toggleable\"><input class=\"sk-toggleable__control sk-hidden--visually\" id=\"sk-estimator-id-2\" type=\"checkbox\" ><label for=\"sk-estimator-id-2\" class=\"sk-toggleable__label sk-toggleable__label-arrow\">estimator: AdaBoostClassifier</label><div class=\"sk-toggleable__content\"><pre>AdaBoostClassifier()</pre></div></div></div><div class=\"sk-serial\"><div class=\"sk-item\"><div class=\"sk-estimator sk-toggleable\"><input class=\"sk-toggleable__control sk-hidden--visually\" id=\"sk-estimator-id-3\" type=\"checkbox\" ><label for=\"sk-estimator-id-3\" class=\"sk-toggleable__label sk-toggleable__label-arrow\">AdaBoostClassifier</label><div class=\"sk-toggleable__content\"><pre>AdaBoostClassifier()</pre></div></div></div></div></div></div></div></div></div></div>"
      ],
      "text/plain": [
       "GridSearchCV(estimator=AdaBoostClassifier(),\n",
       "             param_grid={'learning_rate': [0.01, 0.1],\n",
       "                         'n_estimators': [10, 20, 30, 50]})"
      ]
     },
     "execution_count": 10,
     "metadata": {},
     "output_type": "execute_result"
    }
   ],
   "source": [
    "param_gridAB = {\n",
    "    'n_estimators': [10, 20, 30, 50],\n",
    "    'learning_rate': [0.01, 0.1]\n",
    "}\n",
    "modelAB = AdaBoostClassifier()\n",
    "ABGrid = GridSearchCV(modelAB,param_gridAB)\n",
    "ABGrid.fit(X_train, np.ravel(y_train))"
   ]
  },
  {
   "cell_type": "code",
   "execution_count": 11,
   "metadata": {},
   "outputs": [
    {
     "name": "stdout",
     "output_type": "stream",
     "text": [
      "Best Random AdaBoost Estimator\n",
      " AdaBoostClassifier(learning_rate=0.1)\n"
     ]
    }
   ],
   "source": [
    "print(\"Best Random AdaBoost Estimator\\n\", ABGrid.best_estimator_)"
   ]
  },
  {
   "cell_type": "markdown",
   "metadata": {},
   "source": [
    "### GradientBoosting"
   ]
  },
  {
   "cell_type": "code",
   "execution_count": 44,
   "metadata": {},
   "outputs": [],
   "source": [
    "from sklearn.ensemble import GradientBoostingClassifier"
   ]
  },
  {
   "cell_type": "code",
   "execution_count": 13,
   "metadata": {},
   "outputs": [
    {
     "data": {
      "text/html": [
       "<style>#sk-container-id-2 {color: black;}#sk-container-id-2 pre{padding: 0;}#sk-container-id-2 div.sk-toggleable {background-color: white;}#sk-container-id-2 label.sk-toggleable__label {cursor: pointer;display: block;width: 100%;margin-bottom: 0;padding: 0.3em;box-sizing: border-box;text-align: center;}#sk-container-id-2 label.sk-toggleable__label-arrow:before {content: \"▸\";float: left;margin-right: 0.25em;color: #696969;}#sk-container-id-2 label.sk-toggleable__label-arrow:hover:before {color: black;}#sk-container-id-2 div.sk-estimator:hover label.sk-toggleable__label-arrow:before {color: black;}#sk-container-id-2 div.sk-toggleable__content {max-height: 0;max-width: 0;overflow: hidden;text-align: left;background-color: #f0f8ff;}#sk-container-id-2 div.sk-toggleable__content pre {margin: 0.2em;color: black;border-radius: 0.25em;background-color: #f0f8ff;}#sk-container-id-2 input.sk-toggleable__control:checked~div.sk-toggleable__content {max-height: 200px;max-width: 100%;overflow: auto;}#sk-container-id-2 input.sk-toggleable__control:checked~label.sk-toggleable__label-arrow:before {content: \"▾\";}#sk-container-id-2 div.sk-estimator input.sk-toggleable__control:checked~label.sk-toggleable__label {background-color: #d4ebff;}#sk-container-id-2 div.sk-label input.sk-toggleable__control:checked~label.sk-toggleable__label {background-color: #d4ebff;}#sk-container-id-2 input.sk-hidden--visually {border: 0;clip: rect(1px 1px 1px 1px);clip: rect(1px, 1px, 1px, 1px);height: 1px;margin: -1px;overflow: hidden;padding: 0;position: absolute;width: 1px;}#sk-container-id-2 div.sk-estimator {font-family: monospace;background-color: #f0f8ff;border: 1px dotted black;border-radius: 0.25em;box-sizing: border-box;margin-bottom: 0.5em;}#sk-container-id-2 div.sk-estimator:hover {background-color: #d4ebff;}#sk-container-id-2 div.sk-parallel-item::after {content: \"\";width: 100%;border-bottom: 1px solid gray;flex-grow: 1;}#sk-container-id-2 div.sk-label:hover label.sk-toggleable__label {background-color: #d4ebff;}#sk-container-id-2 div.sk-serial::before {content: \"\";position: absolute;border-left: 1px solid gray;box-sizing: border-box;top: 0;bottom: 0;left: 50%;z-index: 0;}#sk-container-id-2 div.sk-serial {display: flex;flex-direction: column;align-items: center;background-color: white;padding-right: 0.2em;padding-left: 0.2em;position: relative;}#sk-container-id-2 div.sk-item {position: relative;z-index: 1;}#sk-container-id-2 div.sk-parallel {display: flex;align-items: stretch;justify-content: center;background-color: white;position: relative;}#sk-container-id-2 div.sk-item::before, #sk-container-id-2 div.sk-parallel-item::before {content: \"\";position: absolute;border-left: 1px solid gray;box-sizing: border-box;top: 0;bottom: 0;left: 50%;z-index: -1;}#sk-container-id-2 div.sk-parallel-item {display: flex;flex-direction: column;z-index: 1;position: relative;background-color: white;}#sk-container-id-2 div.sk-parallel-item:first-child::after {align-self: flex-end;width: 50%;}#sk-container-id-2 div.sk-parallel-item:last-child::after {align-self: flex-start;width: 50%;}#sk-container-id-2 div.sk-parallel-item:only-child::after {width: 0;}#sk-container-id-2 div.sk-dashed-wrapped {border: 1px dashed gray;margin: 0 0.4em 0.5em 0.4em;box-sizing: border-box;padding-bottom: 0.4em;background-color: white;}#sk-container-id-2 div.sk-label label {font-family: monospace;font-weight: bold;display: inline-block;line-height: 1.2em;}#sk-container-id-2 div.sk-label-container {text-align: center;}#sk-container-id-2 div.sk-container {/* jupyter's `normalize.less` sets `[hidden] { display: none; }` but bootstrap.min.css set `[hidden] { display: none !important; }` so we also need the `!important` here to be able to override the default hidden behavior on the sphinx rendered scikit-learn.org. See: https://github.com/scikit-learn/scikit-learn/issues/21755 */display: inline-block !important;position: relative;}#sk-container-id-2 div.sk-text-repr-fallback {display: none;}</style><div id=\"sk-container-id-2\" class=\"sk-top-container\"><div class=\"sk-text-repr-fallback\"><pre>GridSearchCV(estimator=GradientBoostingClassifier(),\n",
       "             param_grid={&#x27;max_depth&#x27;: [3, 5, 8],\n",
       "                         &#x27;min_samples_leaf&#x27;: array([0.1       , 0.23333333, 0.36666667, 0.5       ]),\n",
       "                         &#x27;min_samples_split&#x27;: array([0.1       , 0.23333333, 0.36666667, 0.5       ]),\n",
       "                         &#x27;n_estimators&#x27;: [8, 10, 12, 14]})</pre><b>In a Jupyter environment, please rerun this cell to show the HTML representation or trust the notebook. <br />On GitHub, the HTML representation is unable to render, please try loading this page with nbviewer.org.</b></div><div class=\"sk-container\" hidden><div class=\"sk-item sk-dashed-wrapped\"><div class=\"sk-label-container\"><div class=\"sk-label sk-toggleable\"><input class=\"sk-toggleable__control sk-hidden--visually\" id=\"sk-estimator-id-4\" type=\"checkbox\" ><label for=\"sk-estimator-id-4\" class=\"sk-toggleable__label sk-toggleable__label-arrow\">GridSearchCV</label><div class=\"sk-toggleable__content\"><pre>GridSearchCV(estimator=GradientBoostingClassifier(),\n",
       "             param_grid={&#x27;max_depth&#x27;: [3, 5, 8],\n",
       "                         &#x27;min_samples_leaf&#x27;: array([0.1       , 0.23333333, 0.36666667, 0.5       ]),\n",
       "                         &#x27;min_samples_split&#x27;: array([0.1       , 0.23333333, 0.36666667, 0.5       ]),\n",
       "                         &#x27;n_estimators&#x27;: [8, 10, 12, 14]})</pre></div></div></div><div class=\"sk-parallel\"><div class=\"sk-parallel-item\"><div class=\"sk-item\"><div class=\"sk-label-container\"><div class=\"sk-label sk-toggleable\"><input class=\"sk-toggleable__control sk-hidden--visually\" id=\"sk-estimator-id-5\" type=\"checkbox\" ><label for=\"sk-estimator-id-5\" class=\"sk-toggleable__label sk-toggleable__label-arrow\">estimator: GradientBoostingClassifier</label><div class=\"sk-toggleable__content\"><pre>GradientBoostingClassifier()</pre></div></div></div><div class=\"sk-serial\"><div class=\"sk-item\"><div class=\"sk-estimator sk-toggleable\"><input class=\"sk-toggleable__control sk-hidden--visually\" id=\"sk-estimator-id-6\" type=\"checkbox\" ><label for=\"sk-estimator-id-6\" class=\"sk-toggleable__label sk-toggleable__label-arrow\">GradientBoostingClassifier</label><div class=\"sk-toggleable__content\"><pre>GradientBoostingClassifier()</pre></div></div></div></div></div></div></div></div></div></div>"
      ],
      "text/plain": [
       "GridSearchCV(estimator=GradientBoostingClassifier(),\n",
       "             param_grid={'max_depth': [3, 5, 8],\n",
       "                         'min_samples_leaf': array([0.1       , 0.23333333, 0.36666667, 0.5       ]),\n",
       "                         'min_samples_split': array([0.1       , 0.23333333, 0.36666667, 0.5       ]),\n",
       "                         'n_estimators': [8, 10, 12, 14]})"
      ]
     },
     "execution_count": 13,
     "metadata": {},
     "output_type": "execute_result"
    }
   ],
   "source": [
    "param_gridGB = {\n",
    "    \"min_samples_split\": np.linspace(0.1, 0.5, 4),\n",
    "    \"min_samples_leaf\": np.linspace(0.1, 0.5, 4),\n",
    "    \"max_depth\":[3,5,8],\n",
    "    \"n_estimators\":[8,10,12,14]\n",
    "    }\n",
    "modelGB = GradientBoostingClassifier()\n",
    "GBGrid = GridSearchCV(modelGB,param_gridGB)\n",
    "GBGrid.fit(X_train, np.ravel(y_train))"
   ]
  },
  {
   "cell_type": "code",
   "execution_count": 14,
   "metadata": {},
   "outputs": [
    {
     "name": "stdout",
     "output_type": "stream",
     "text": [
      "Best Random GradientBoosting Estimator\n",
      " GradientBoostingClassifier(max_depth=5, min_samples_leaf=0.1,\n",
      "                           min_samples_split=0.1, n_estimators=14)\n"
     ]
    }
   ],
   "source": [
    "print(\"Best Random GradientBoosting Estimator\\n\", GBGrid.best_estimator_)"
   ]
  },
  {
   "cell_type": "markdown",
   "metadata": {},
   "source": [
    "# Comparing the Best Classifer Found for Each Model"
   ]
  },
  {
   "cell_type": "code",
   "execution_count": 41,
   "metadata": {},
   "outputs": [
    {
     "name": "stdout",
     "output_type": "stream",
     "text": [
      "Train score :  0.928388746803069\n",
      "Test score :  0.7831632653061225\n",
      "Classification report :\n",
      "               precision    recall  f1-score   support\n",
      "\n",
      "       False       0.82      0.80      0.81       230\n",
      "        True       0.73      0.75      0.74       162\n",
      "\n",
      "    accuracy                           0.78       392\n",
      "   macro avg       0.78      0.78      0.78       392\n",
      "weighted avg       0.78      0.78      0.78       392\n",
      "\n",
      "Confusion Matrix :\n",
      "  [[185  45]\n",
      " [ 40 122]]\n",
      "Cross-Validation Scores :\n",
      " [0.7827476  0.77635783 0.82108626 0.8115016  0.76282051]\n",
      "Mean Cross-Validation Score :\n",
      " 0.7909027607110674\n",
      "Standard Deviation of Cross-Validation Scores :\n",
      " 0.021918166605559338\n"
     ]
    }
   ],
   "source": [
    "# Best random forest classifier\n",
    "\n",
    "bestRandomForestClassifier = RandomForestClassifier(max_features='log2', min_samples_split=10, n_estimators=200)\n",
    "bestRandomForestClassifier.fit(X_train, np.ravel(y_train))\n",
    "\n",
    "displayAcuracyScore(bestRandomForestClassifier, X_train, y_train, X_test, y_test)\n",
    "displayClassificationReport(bestRandomForestClassifier, X_test, y_test)\n",
    "displayConfusionMatrix(bestRandomForestClassifier, X_test, y_test)\n",
    "displayCrossValidationScore(bestRandomForestClassifier, X_train, y_train)"
   ]
  },
  {
   "cell_type": "code",
   "execution_count": 42,
   "metadata": {},
   "outputs": [
    {
     "name": "stdout",
     "output_type": "stream",
     "text": [
      "Train score :  0.7832480818414322\n",
      "Test score :  0.7627551020408163\n",
      "Classification report :\n",
      "               precision    recall  f1-score   support\n",
      "\n",
      "       False       0.75      0.89      0.81       230\n",
      "        True       0.79      0.59      0.67       162\n",
      "\n",
      "    accuracy                           0.76       392\n",
      "   macro avg       0.77      0.74      0.74       392\n",
      "weighted avg       0.77      0.76      0.76       392\n",
      "\n",
      "Confusion Matrix :\n",
      "  [[204  26]\n",
      " [ 67  95]]\n",
      "Cross-Validation Scores :\n",
      " [0.77635783 0.76357827 0.77955272 0.77955272 0.75961538]\n",
      "Mean Cross-Validation Score :\n",
      " 0.7717313836323421\n",
      "Standard Deviation of Cross-Validation Scores :\n",
      " 0.00845010139952901\n"
     ]
    }
   ],
   "source": [
    "# Best SVM classifier\n",
    "\n",
    "bestSVMClassifier = svm.SVC(kernel='linear')\n",
    "bestSVMClassifier.fit(X_train, np.ravel(y_train))\n",
    "\n",
    "displayAcuracyScore(bestSVMClassifier, X_train, y_train, X_test, y_test)\n",
    "displayClassificationReport(bestSVMClassifier, X_test, y_test)\n",
    "displayConfusionMatrix(bestSVMClassifier, X_test, y_test)\n",
    "displayCrossValidationScore(bestSVMClassifier, X_train, y_train)"
   ]
  },
  {
   "cell_type": "code",
   "execution_count": 46,
   "metadata": {},
   "outputs": [
    {
     "name": "stdout",
     "output_type": "stream",
     "text": [
      "Train score :  0.8005115089514067\n",
      "Test score :  0.7882653061224489\n",
      "Classification report :\n",
      "               precision    recall  f1-score   support\n",
      "\n",
      "       False       0.79      0.87      0.83       230\n",
      "        True       0.79      0.67      0.72       162\n",
      "\n",
      "    accuracy                           0.79       392\n",
      "   macro avg       0.79      0.77      0.78       392\n",
      "weighted avg       0.79      0.79      0.78       392\n",
      "\n",
      "Confusion Matrix :\n",
      "  [[201  29]\n",
      " [ 54 108]]\n",
      "Cross-Validation Scores :\n",
      " [0.79872204 0.76357827 0.80511182 0.78913738 0.79487179]\n",
      "Mean Cross-Validation Score :\n",
      " 0.7902842631277137\n",
      "Standard Deviation of Cross-Validation Scores :\n",
      " 0.014329153750333194\n"
     ]
    }
   ],
   "source": [
    "# Best AdaBoost classifier\n",
    "\n",
    "bestAdaBoostClassifier = AdaBoostClassifier(learning_rate=0.1)\n",
    "bestAdaBoostClassifier.fit(X_train, np.ravel(y_train))\n",
    "\n",
    "displayAcuracyScore(bestAdaBoostClassifier, X_train, y_train, X_test, y_test)\n",
    "displayClassificationReport(bestAdaBoostClassifier, X_test, y_test)\n",
    "displayConfusionMatrix(bestAdaBoostClassifier, X_test, y_test)\n",
    "displayCrossValidationScore(bestAdaBoostClassifier, X_train, y_train)"
   ]
  },
  {
   "cell_type": "code",
   "execution_count": 47,
   "metadata": {},
   "outputs": [
    {
     "name": "stdout",
     "output_type": "stream",
     "text": [
      "Train score :  0.8056265984654731\n",
      "Test score :  0.7831632653061225\n",
      "Classification report :\n",
      "               precision    recall  f1-score   support\n",
      "\n",
      "       False       0.81      0.82      0.82       230\n",
      "        True       0.74      0.73      0.74       162\n",
      "\n",
      "    accuracy                           0.78       392\n",
      "   macro avg       0.78      0.78      0.78       392\n",
      "weighted avg       0.78      0.78      0.78       392\n",
      "\n",
      "Confusion Matrix :\n",
      "  [[189  41]\n",
      " [ 44 118]]\n",
      "Cross-Validation Scores :\n",
      " [0.79872204 0.77955272 0.8115016  0.78594249 0.79807692]\n",
      "Mean Cross-Validation Score :\n",
      " 0.7947591545834358\n",
      "Standard Deviation of Cross-Validation Scores :\n",
      " 0.011099466678993844\n"
     ]
    }
   ],
   "source": [
    "# Best GradientBoosting classifier\n",
    "\n",
    "bestGradientBoostingClassifier = GradientBoostingClassifier(max_depth=5, min_samples_leaf=0.1, min_samples_split=0.1, n_estimators=14)\n",
    "bestGradientBoostingClassifier.fit(X_train, np.ravel(y_train))\n",
    "\n",
    "displayAcuracyScore(bestGradientBoostingClassifier, X_train, y_train, X_test, y_test)\n",
    "displayClassificationReport(bestGradientBoostingClassifier, X_test, y_test)\n",
    "displayConfusionMatrix(bestGradientBoostingClassifier, X_test, y_test)\n",
    "displayCrossValidationScore(bestGradientBoostingClassifier, X_train, y_train)"
   ]
  },
  {
   "cell_type": "markdown",
   "metadata": {},
   "source": [
    "# Evaluation sur le model Nevada et Colorado "
   ]
  },
  {
   "cell_type": "markdown",
   "metadata": {},
   "source": [
    "### Nevada"
   ]
  },
  {
   "cell_type": "code",
   "execution_count": 48,
   "metadata": {},
   "outputs": [],
   "source": [
    "dir = \"TP2data/\"\n",
    "featuresFileNameNe = \"acsincome_ne_allfeaturesTP2.csv\"\n",
    "labelsFileNameNe = \"acsincome_ne_labelTP2.csv\"\n",
    "\n",
    "featuresNe = pd.read_csv(dir+featuresFileNameNe) \n",
    "labelsNe = pd.read_csv(dir+labelsFileNameNe)\n",
    "\n",
    "X_all = sc.fit_transform(featuresNe)\n",
    "\n",
    "X_all, y_all = shuffle(featuresNe, labelsNe, random_state = 1)\n",
    "\n",
    "num_samples = 392\n",
    "X_test, y_test = X_all[:num_samples], y_all[:num_samples]"
   ]
  },
  {
   "cell_type": "code",
   "execution_count": 49,
   "metadata": {},
   "outputs": [
    {
     "name": "stdout",
     "output_type": "stream",
     "text": [
      "Train score :  0.928388746803069\n",
      "Test score :  0.7448979591836735\n",
      "Classification report :\n",
      "               precision    recall  f1-score   support\n",
      "\n",
      "           0       0.84      0.73      0.78       242\n",
      "           1       0.64      0.77      0.70       150\n",
      "\n",
      "    accuracy                           0.74       392\n",
      "   macro avg       0.74      0.75      0.74       392\n",
      "weighted avg       0.76      0.74      0.75       392\n",
      "\n",
      "Confusion Matrix :\n",
      "  [[176  66]\n",
      " [ 34 116]]\n",
      "Cross-Validation Scores :\n",
      " [0.78913738 0.77316294 0.82108626 0.80191693 0.77884615]\n",
      "Mean Cross-Validation Score :\n",
      " 0.7928299336446301\n",
      "Standard Deviation of Cross-Validation Scores :\n",
      " 0.01718700300671231\n"
     ]
    }
   ],
   "source": [
    "displayAcuracyScore(bestRandomForestClassifier, X_train, y_train, X_test, y_test)\n",
    "displayClassificationReport(bestRandomForestClassifier, X_test, y_test)\n",
    "displayConfusionMatrix(bestRandomForestClassifier, X_test, y_test)\n",
    "displayCrossValidationScore(bestRandomForestClassifier, X_train, y_train)"
   ]
  },
  {
   "cell_type": "code",
   "execution_count": 50,
   "metadata": {},
   "outputs": [
    {
     "name": "stdout",
     "output_type": "stream",
     "text": [
      "Train score :  0.7832480818414322\n",
      "Test score :  0.7474489795918368\n",
      "Classification report :\n",
      "               precision    recall  f1-score   support\n",
      "\n",
      "           0       0.77      0.84      0.80       242\n",
      "           1       0.70      0.59      0.64       150\n",
      "\n",
      "    accuracy                           0.75       392\n",
      "   macro avg       0.74      0.72      0.72       392\n",
      "weighted avg       0.74      0.75      0.74       392\n",
      "\n",
      "Confusion Matrix :\n",
      "  [[204  38]\n",
      " [ 61  89]]\n",
      "Cross-Validation Scores :\n",
      " [0.77635783 0.76357827 0.77955272 0.77955272 0.75961538]\n",
      "Mean Cross-Validation Score :\n",
      " 0.7717313836323421\n",
      "Standard Deviation of Cross-Validation Scores :\n",
      " 0.00845010139952901\n"
     ]
    }
   ],
   "source": [
    "displayAcuracyScore(bestSVMClassifier, X_train, y_train, X_test, y_test)\n",
    "displayClassificationReport(bestSVMClassifier, X_test, y_test)\n",
    "displayConfusionMatrix(bestSVMClassifier, X_test, y_test)\n",
    "displayCrossValidationScore(bestSVMClassifier, X_train, y_train)"
   ]
  },
  {
   "cell_type": "code",
   "execution_count": 51,
   "metadata": {},
   "outputs": [
    {
     "name": "stdout",
     "output_type": "stream",
     "text": [
      "Train score :  0.8005115089514067\n",
      "Test score :  0.7448979591836735\n",
      "Classification report :\n",
      "               precision    recall  f1-score   support\n",
      "\n",
      "           0       0.77      0.84      0.80       242\n",
      "           1       0.70      0.59      0.64       150\n",
      "\n",
      "    accuracy                           0.74       392\n",
      "   macro avg       0.73      0.71      0.72       392\n",
      "weighted avg       0.74      0.74      0.74       392\n",
      "\n",
      "Confusion Matrix :\n",
      "  [[204  38]\n",
      " [ 62  88]]\n",
      "Cross-Validation Scores :\n",
      " [0.79872204 0.76357827 0.80511182 0.78913738 0.79487179]\n",
      "Mean Cross-Validation Score :\n",
      " 0.7902842631277137\n",
      "Standard Deviation of Cross-Validation Scores :\n",
      " 0.014329153750333194\n"
     ]
    }
   ],
   "source": [
    "displayAcuracyScore(bestAdaBoostClassifier, X_train, y_train, X_test, y_test)\n",
    "displayClassificationReport(bestAdaBoostClassifier, X_test, y_test)\n",
    "displayConfusionMatrix(bestAdaBoostClassifier, X_test, y_test)\n",
    "displayCrossValidationScore(bestAdaBoostClassifier, X_train, y_train)"
   ]
  },
  {
   "cell_type": "code",
   "execution_count": 52,
   "metadata": {},
   "outputs": [
    {
     "name": "stdout",
     "output_type": "stream",
     "text": [
      "Train score :  0.8056265984654731\n",
      "Test score :  0.7346938775510204\n",
      "Classification report :\n",
      "               precision    recall  f1-score   support\n",
      "\n",
      "           0       0.80      0.76      0.78       242\n",
      "           1       0.64      0.69      0.67       150\n",
      "\n",
      "    accuracy                           0.73       392\n",
      "   macro avg       0.72      0.73      0.72       392\n",
      "weighted avg       0.74      0.73      0.74       392\n",
      "\n",
      "Confusion Matrix :\n",
      "  [[184  58]\n",
      " [ 46 104]]\n",
      "Cross-Validation Scores :\n",
      " [0.79872204 0.77955272 0.8115016  0.78594249 0.79807692]\n",
      "Mean Cross-Validation Score :\n",
      " 0.7947591545834358\n",
      "Standard Deviation of Cross-Validation Scores :\n",
      " 0.011099466678993844\n"
     ]
    }
   ],
   "source": [
    "displayAcuracyScore(bestGradientBoostingClassifier, X_train, y_train, X_test, y_test)\n",
    "displayClassificationReport(bestGradientBoostingClassifier, X_test, y_test)\n",
    "displayConfusionMatrix(bestGradientBoostingClassifier, X_test, y_test)\n",
    "displayCrossValidationScore(bestGradientBoostingClassifier, X_train, y_train)"
   ]
  },
  {
   "cell_type": "markdown",
   "metadata": {},
   "source": [
    "### Colorado"
   ]
  },
  {
   "cell_type": "code",
   "execution_count": 53,
   "metadata": {},
   "outputs": [],
   "source": [
    "dir = \"TP2data/\"\n",
    "featuresFileNameCo = \"acsincome_co_allfeaturesTP2.csv\"\n",
    "labelsFileNameCo = \"acsincome_co_labelTP2.csv\"\n",
    "\n",
    "featuresCo = pd.read_csv(dir+featuresFileNameCo)\n",
    "labelsCo = pd.read_csv(dir+labelsFileNameCo)\n",
    "\n",
    "X_all = sc.fit_transform(featuresCo)\n",
    "\n",
    "X_all, y_all = shuffle(featuresCo, labelsCo, random_state = 1)\n",
    "\n",
    "num_samples = 392\n",
    "X_test, y_test = X_all[:num_samples], y_all[:num_samples]"
   ]
  },
  {
   "cell_type": "code",
   "execution_count": 54,
   "metadata": {},
   "outputs": [
    {
     "name": "stdout",
     "output_type": "stream",
     "text": [
      "Train score :  0.928388746803069\n",
      "Test score :  0.7525510204081632\n",
      "Classification report :\n",
      "               precision    recall  f1-score   support\n",
      "\n",
      "           0       0.86      0.71      0.78       239\n",
      "           1       0.64      0.82      0.72       153\n",
      "\n",
      "    accuracy                           0.75       392\n",
      "   macro avg       0.75      0.77      0.75       392\n",
      "weighted avg       0.78      0.75      0.76       392\n",
      "\n",
      "Confusion Matrix :\n",
      "  [[169  70]\n",
      " [ 27 126]]\n",
      "Cross-Validation Scores :\n",
      " [0.78913738 0.78594249 0.81789137 0.81469649 0.76602564]\n",
      "Mean Cross-Validation Score :\n",
      " 0.7947386745310068\n",
      "Standard Deviation of Cross-Validation Scores :\n",
      " 0.01932639296590475\n"
     ]
    }
   ],
   "source": [
    "displayAcuracyScore(bestRandomForestClassifier, X_train, y_train, X_test, y_test)\n",
    "displayClassificationReport(bestRandomForestClassifier, X_test, y_test)\n",
    "displayConfusionMatrix(bestRandomForestClassifier, X_test, y_test)\n",
    "displayCrossValidationScore(bestRandomForestClassifier, X_train, y_train)"
   ]
  },
  {
   "cell_type": "code",
   "execution_count": 55,
   "metadata": {},
   "outputs": [
    {
     "name": "stdout",
     "output_type": "stream",
     "text": [
      "Train score :  0.7832480818414322\n",
      "Test score :  0.7448979591836735\n",
      "Classification report :\n",
      "               precision    recall  f1-score   support\n",
      "\n",
      "           0       0.78      0.82      0.80       239\n",
      "           1       0.69      0.63      0.66       153\n",
      "\n",
      "    accuracy                           0.74       392\n",
      "   macro avg       0.73      0.72      0.73       392\n",
      "weighted avg       0.74      0.74      0.74       392\n",
      "\n",
      "Confusion Matrix :\n",
      "  [[195  44]\n",
      " [ 56  97]]\n",
      "Cross-Validation Scores :\n",
      " [0.77635783 0.76357827 0.77955272 0.77955272 0.75961538]\n",
      "Mean Cross-Validation Score :\n",
      " 0.7717313836323421\n",
      "Standard Deviation of Cross-Validation Scores :\n",
      " 0.00845010139952901\n"
     ]
    }
   ],
   "source": [
    "displayAcuracyScore(bestSVMClassifier, X_train, y_train, X_test, y_test)\n",
    "displayClassificationReport(bestSVMClassifier, X_test, y_test)\n",
    "displayConfusionMatrix(bestSVMClassifier, X_test, y_test)\n",
    "displayCrossValidationScore(bestSVMClassifier, X_train, y_train)"
   ]
  },
  {
   "cell_type": "code",
   "execution_count": 56,
   "metadata": {},
   "outputs": [
    {
     "name": "stdout",
     "output_type": "stream",
     "text": [
      "Train score :  0.8005115089514067\n",
      "Test score :  0.7602040816326531\n",
      "Classification report :\n",
      "               precision    recall  f1-score   support\n",
      "\n",
      "           0       0.80      0.81      0.80       239\n",
      "           1       0.70      0.68      0.69       153\n",
      "\n",
      "    accuracy                           0.76       392\n",
      "   macro avg       0.75      0.75      0.75       392\n",
      "weighted avg       0.76      0.76      0.76       392\n",
      "\n",
      "Confusion Matrix :\n",
      "  [[194  45]\n",
      " [ 49 104]]\n",
      "Cross-Validation Scores :\n",
      " [0.79872204 0.76357827 0.80511182 0.78913738 0.79487179]\n",
      "Mean Cross-Validation Score :\n",
      " 0.7902842631277137\n",
      "Standard Deviation of Cross-Validation Scores :\n",
      " 0.014329153750333194\n"
     ]
    }
   ],
   "source": [
    "displayAcuracyScore(bestAdaBoostClassifier, X_train, y_train, X_test, y_test)\n",
    "displayClassificationReport(bestAdaBoostClassifier, X_test, y_test)\n",
    "displayConfusionMatrix(bestAdaBoostClassifier, X_test, y_test)\n",
    "displayCrossValidationScore(bestAdaBoostClassifier, X_train, y_train)"
   ]
  },
  {
   "cell_type": "code",
   "execution_count": 57,
   "metadata": {},
   "outputs": [
    {
     "name": "stdout",
     "output_type": "stream",
     "text": [
      "Train score :  0.8056265984654731\n",
      "Test score :  0.7678571428571429\n",
      "Classification report :\n",
      "               precision    recall  f1-score   support\n",
      "\n",
      "           0       0.86      0.74      0.79       239\n",
      "           1       0.66      0.82      0.73       153\n",
      "\n",
      "    accuracy                           0.77       392\n",
      "   macro avg       0.76      0.78      0.76       392\n",
      "weighted avg       0.79      0.77      0.77       392\n",
      "\n",
      "Confusion Matrix :\n",
      "  [[176  63]\n",
      " [ 28 125]]\n",
      "Cross-Validation Scores :\n",
      " [0.80191693 0.78913738 0.8115016  0.80830671 0.76602564]\n",
      "Mean Cross-Validation Score :\n",
      " 0.7953776521667895\n",
      "Standard Deviation of Cross-Validation Scores :\n",
      " 0.016555276341491898\n"
     ]
    }
   ],
   "source": [
    "displayAcuracyScore(bestGradientBoostingClassifier, X_train, y_train, X_test, y_test)\n",
    "displayClassificationReport(bestGradientBoostingClassifier, X_test, y_test)\n",
    "displayConfusionMatrix(bestGradientBoostingClassifier, X_test, y_test)\n",
    "displayCrossValidationScore(bestRandomForestClassifier, X_train, y_train)"
   ]
  },
  {
   "cell_type": "markdown",
   "metadata": {},
   "source": [
    "# <span style=\"color: green\">TP2 : Explicabilité et Equité </span>"
   ]
  },
  {
   "cell_type": "markdown",
   "metadata": {},
   "source": [
    "# Explicabilité"
   ]
  },
  {
   "cell_type": "code",
   "execution_count": 58,
   "metadata": {},
   "outputs": [],
   "source": [
    "import pandas as pd\n",
    "from sklearn.inspection import permutation_importance"
   ]
  },
  {
   "cell_type": "markdown",
   "metadata": {},
   "source": [
    "\n",
    "### Chargement des données de Californie"
   ]
  },
  {
   "cell_type": "code",
   "execution_count": 112,
   "metadata": {},
   "outputs": [],
   "source": [
    "\n",
    "X_train, X_test, y_train, y_test = train_test_split(X, y, test_size=0.2, random_state=123)\n",
    "\n",
    "# Convert boolean labels to numeric\n",
    "y_train_numeric = y_train.astype(int)\n",
    "\n",
    "correlations_original_short = X_train.corrwith(y_train_numeric['PINCP'])"
   ]
  },
  {
   "cell_type": "code",
   "execution_count": 113,
   "metadata": {},
   "outputs": [],
   "source": [
    "# Convert boolean labels to numeric\n",
    "y_train_numeric = y_all.astype(int)\n",
    "\n",
    "correlations_original = X_all.corrwith(y_train_numeric['PINCP'])"
   ]
  },
  {
   "cell_type": "markdown",
   "metadata": {},
   "source": [
    "### Calcul des corrélations entre les caractéristiques et le label prédit"
   ]
  },
  {
   "cell_type": "code",
   "execution_count": 70,
   "metadata": {},
   "outputs": [],
   "source": [
    "svm_predictions = bestSVMClassifier.predict(X_train)\n",
    "rf_predictions = bestRandomForestClassifier.predict(X_train)\n",
    "adaboost_predictions = bestAdaBoostClassifier.predict(X_train)\n",
    "gb_predictions = bestGradientBoostingClassifier.predict(X_train)\n",
    "\n",
    "correlations_svm_predicted = pd.DataFrame(X_train).apply(lambda x: x.corr(pd.Series(svm_predictions)))\n",
    "correlations_rf_predicted = pd.DataFrame(X_train).apply(lambda x: x.corr(pd.Series(rf_predictions)))\n",
    "correlations_adaboost_predicted = pd.DataFrame(X_train).apply(lambda x: x.corr(pd.Series(adaboost_predictions)))\n",
    "correlations_gb_predicted = pd.DataFrame(X_train).apply(lambda x: x.corr(pd.Series(gb_predictions)))\n"
   ]
  },
  {
   "cell_type": "markdown",
   "metadata": {},
   "source": [
    "### Évaluation de l'importance de chaque caractéristique avec la méthode permutation_importance"
   ]
  },
  {
   "cell_type": "code",
   "execution_count": 71,
   "metadata": {},
   "outputs": [],
   "source": [
    "svm_permutation_importance = permutation_importance(bestSVMClassifier, X_train, y_train, n_repeats=30, random_state=42)\n",
    "rf_permutation_importance = permutation_importance(bestRandomForestClassifier, X_train, y_train, n_repeats=30, random_state=42)\n",
    "adaboost_permutation_importance = permutation_importance(bestAdaBoostClassifier, X_train, y_train, n_repeats=30, random_state=42)\n",
    "gb_permutation_importance = permutation_importance(bestGradientBoostingClassifier, X_train, y_train, n_repeats=30, random_state=42)"
   ]
  },
  {
   "cell_type": "markdown",
   "metadata": {},
   "source": [
    "### Affichage des résultats"
   ]
  },
  {
   "cell_type": "code",
   "execution_count": 118,
   "metadata": {},
   "outputs": [
    {
     "name": "stdout",
     "output_type": "stream",
     "text": [
      "Corrélations originales pour la partie du dataset utilisée pour les entrainements:\n",
      "AGEP     0.260720\n",
      "COW      0.069211\n",
      "SCHL     0.350517\n",
      "MAR     -0.306983\n",
      "OCCP    -0.368594\n",
      "POBP    -0.077086\n",
      "RELP    -0.239775\n",
      "WKHP     0.342052\n",
      "SEX     -0.106358\n",
      "RAC1P   -0.084953\n",
      "dtype: float64\n",
      "\n",
      "Corrélations originales pour tout le dataset:\n",
      "AGEP     0.266304\n",
      "COW      0.053772\n",
      "SCHL     0.350178\n",
      "MAR     -0.266002\n",
      "OCCP    -0.341304\n",
      "POBP    -0.085919\n",
      "RELP    -0.227610\n",
      "WKHP     0.338208\n",
      "SEX     -0.118209\n",
      "RAC1P   -0.100685\n",
      "dtype: float64\n"
     ]
    }
   ],
   "source": [
    "print(\"Corrélations originales pour la partie du dataset utilisée pour les entrainements:\")\n",
    "print(correlations_original_short)\n",
    "print()\n",
    "print(\"Corrélations originales pour tout le dataset:\")\n",
    "print(correlations_original)"
   ]
  },
  {
   "cell_type": "code",
   "execution_count": 76,
   "metadata": {},
   "outputs": [
    {
     "name": "stdout",
     "output_type": "stream",
     "text": [
      "\n",
      "Corrélations avec label prédit - SVM:\n",
      "AGEP     0.079171\n",
      "COW      0.391351\n",
      "SCHL     0.177750\n",
      "MAR     -0.143740\n",
      "OCCP    -0.019392\n",
      "POBP     0.125191\n",
      "RELP     0.161165\n",
      "WKHP     0.085394\n",
      "SEX     -0.106600\n",
      "RAC1P    0.210267\n",
      "dtype: float64\n"
     ]
    }
   ],
   "source": [
    "\n",
    "print(\"\\nCorrélations avec label prédit - SVM:\")\n",
    "print(correlations_svm_predicted)"
   ]
  },
  {
   "cell_type": "code",
   "execution_count": 77,
   "metadata": {},
   "outputs": [
    {
     "name": "stdout",
     "output_type": "stream",
     "text": [
      "\n",
      "Corrélations avec label prédit - Random Forest:\n",
      "AGEP    -0.010025\n",
      "COW      0.015082\n",
      "SCHL     0.194945\n",
      "MAR     -0.063706\n",
      "OCCP     0.391392\n",
      "POBP     0.259314\n",
      "RELP     0.285714\n",
      "WKHP     0.273309\n",
      "SEX     -0.188982\n",
      "RAC1P    0.553134\n",
      "dtype: float64\n"
     ]
    }
   ],
   "source": [
    "\n",
    "print(\"\\nCorrélations avec label prédit - Random Forest:\")\n",
    "print(correlations_rf_predicted)"
   ]
  },
  {
   "cell_type": "code",
   "execution_count": 78,
   "metadata": {},
   "outputs": [
    {
     "name": "stdout",
     "output_type": "stream",
     "text": [
      "\n",
      "Corrélations avec label prédit - Adaboost:\n",
      "AGEP    -0.026525\n",
      "COW      0.279330\n",
      "SCHL     0.113047\n",
      "MAR     -0.067420\n",
      "OCCP     0.041310\n",
      "POBP     0.037303\n",
      "RELP     0.188982\n",
      "WKHP     0.158600\n",
      "SEX     -0.200000\n",
      "RAC1P    0.270421\n",
      "dtype: float64\n"
     ]
    }
   ],
   "source": [
    "print(\"\\nCorrélations avec label prédit - Adaboost:\")\n",
    "print(correlations_adaboost_predicted)"
   ]
  },
  {
   "cell_type": "code",
   "execution_count": 79,
   "metadata": {},
   "outputs": [
    {
     "name": "stdout",
     "output_type": "stream",
     "text": [
      "\n",
      "Corrélations avec label prédit - Gradient Boosting:\n",
      "AGEP    -0.026525\n",
      "COW      0.279330\n",
      "SCHL     0.113047\n",
      "MAR     -0.067420\n",
      "OCCP     0.041310\n",
      "POBP     0.037303\n",
      "RELP     0.188982\n",
      "WKHP     0.158600\n",
      "SEX     -0.200000\n",
      "RAC1P    0.270421\n",
      "dtype: float64\n"
     ]
    }
   ],
   "source": [
    "print(\"\\nCorrélations avec label prédit - Gradient Boosting:\")\n",
    "print(correlations_gb_predicted)"
   ]
  },
  {
   "cell_type": "code",
   "execution_count": 80,
   "metadata": {},
   "outputs": [
    {
     "name": "stdout",
     "output_type": "stream",
     "text": [
      "\n",
      "Importance des caractéristiques - SVM:\n",
      "[0.0235081  0.0014919  0.06033674 0.01466326 0.05566922 0.00464621\n",
      " 0.0081202  0.05511509 0.00850384 0.00407076]\n"
     ]
    }
   ],
   "source": [
    "print(\"\\nImportance des caractéristiques - SVM:\")\n",
    "print(svm_permutation_importance.importances_mean)"
   ]
  },
  {
   "cell_type": "code",
   "execution_count": 81,
   "metadata": {},
   "outputs": [
    {
     "name": "stdout",
     "output_type": "stream",
     "text": [
      "\n",
      "Importance des caractéristiques - Random Forest:\n",
      "[0.07779199 0.02425405 0.09249787 0.03552856 0.11632566 0.04034527\n",
      " 0.05769395 0.10206735 0.03910912 0.01815857]\n"
     ]
    }
   ],
   "source": [
    "\n",
    "print(\"\\nImportance des caractéristiques - Random Forest:\")\n",
    "print(rf_permutation_importance.importances_mean)"
   ]
  },
  {
   "cell_type": "code",
   "execution_count": 82,
   "metadata": {},
   "outputs": [
    {
     "name": "stdout",
     "output_type": "stream",
     "text": [
      "\n",
      "Importance des caractéristiques - Adaboost:\n",
      "[0.01950128 0.         0.04654731 0.00664962 0.05833333 0.\n",
      " 0.01896846 0.05571185 0.00142796 0.        ]\n"
     ]
    }
   ],
   "source": [
    "print(\"\\nImportance des caractéristiques - Adaboost:\")\n",
    "print(adaboost_permutation_importance.importances_mean)"
   ]
  },
  {
   "cell_type": "code",
   "execution_count": 83,
   "metadata": {},
   "outputs": [
    {
     "name": "stdout",
     "output_type": "stream",
     "text": [
      "\n",
      "Importance des caractéristiques - Gradient Boosting:\n",
      "[0.00748082 0.         0.02542626 0.00720375 0.09904092 0.00127877\n",
      " 0.00948423 0.04109122 0.00773657 0.        ]\n"
     ]
    }
   ],
   "source": [
    "print(\"\\nImportance des caractéristiques - Gradient Boosting:\")\n",
    "print(gb_permutation_importance.importances_mean)"
   ]
  },
  {
   "cell_type": "markdown",
   "metadata": {},
   "source": [
    "# Equité"
   ]
  },
  {
   "cell_type": "code",
   "execution_count": 133,
   "metadata": {},
   "outputs": [],
   "source": [
    "from aif360.metrics import BinaryLabelDatasetMetric\n",
    "from aif360.datasets import BinaryLabelDataset\n",
    "from aif360.metrics import ClassificationMetric"
   ]
  },
  {
   "cell_type": "markdown",
   "metadata": {},
   "source": [
    "### La matrice de confusion pour chaque valeur du SEX (et pour chaque modèle)"
   ]
  },
  {
   "cell_type": "code",
   "execution_count": 86,
   "metadata": {},
   "outputs": [
    {
     "name": "stdout",
     "output_type": "stream",
     "text": [
      "Matrice de confusion pour SVC avec SEX='1':\n",
      "[[101  15]\n",
      " [ 37  63]]\n",
      "Matrice de confusion pour SVC avec SEX='2':\n",
      "[[103  11]\n",
      " [ 30  32]]\n",
      "Matrice de confusion pour RandomForestClassifier avec SEX='1':\n",
      "[[87 29]\n",
      " [20 80]]\n",
      "Matrice de confusion pour RandomForestClassifier avec SEX='2':\n",
      "[[98 16]\n",
      " [20 42]]\n",
      "Matrice de confusion pour AdaBoostClassifier avec SEX='1':\n",
      "[[102  14]\n",
      " [ 35  65]]\n",
      "Matrice de confusion pour AdaBoostClassifier avec SEX='2':\n",
      "[[99 15]\n",
      " [19 43]]\n",
      "Matrice de confusion pour GradientBoostingClassifier avec SEX='1':\n",
      "[[87 29]\n",
      " [24 76]]\n",
      "Matrice de confusion pour GradientBoostingClassifier avec SEX='2':\n",
      "[[102  12]\n",
      " [ 20  42]]\n"
     ]
    }
   ],
   "source": [
    "models = [bestSVMClassifier, bestRandomForestClassifier, bestAdaBoostClassifier, bestGradientBoostingClassifier]\n",
    "sex_values = [1, 2]\n",
    "\n",
    "for model in models:\n",
    "    for sex_value in sex_values:\n",
    "        # Sous-ensembles basés sur la valeur de 'SEX'\n",
    "        X_test_subset = X_test[X_test['SEX'] == sex_value]\n",
    "        y_test_subset = y_test[X_test['SEX'] == sex_value]\n",
    "\n",
    "        # Prédiction du modèle\n",
    "        predictions = model.predict(X_test_subset)\n",
    "\n",
    "        # Calcul de la matrice de confusion\n",
    "        cm = confusion_matrix(y_test_subset, predictions)\n",
    "        print(f\"Matrice de confusion pour {model.__class__.__name__} avec SEX='{sex_value}':\")\n",
    "        print(cm)"
   ]
  },
  {
   "cell_type": "markdown",
   "metadata": {},
   "source": [
    "### Calcul de 2 métriques d'équité statistique en train et en test pour l'attribut sensible étant le SEX"
   ]
  },
  {
   "cell_type": "code",
   "execution_count": 171,
   "metadata": {},
   "outputs": [],
   "source": [
    "# Fonction de Calcul de 2 métriques d'équité statistique en train et en test pour un attribut sensible\n",
    "def calculate_fairness_metrics(X, y, type, sensitive_feature = \"SEX\"):\n",
    "    dataset = BinaryLabelDataset(df=pd.concat([X, y], axis=1),\n",
    "                                  label_names=['PINCP'], protected_attribute_names=[sensitive_feature])\n",
    "   \n",
    "    metric = BinaryLabelDatasetMetric(dataset, unprivileged_groups=[{sensitive_feature: 1}], privileged_groups=[{sensitive_feature: 2}])\n",
    "    print(f\"\\nMétriques d'équité statistique en {type}:\")\n",
    "    print(\"Disparate Impact:\", metric.disparate_impact())\n",
    "    print(\"Statistical Parity Difference:\", metric.statistical_parity_difference())"
   ]
  },
  {
   "cell_type": "code",
   "execution_count": 172,
   "metadata": {},
   "outputs": [
    {
     "name": "stdout",
     "output_type": "stream",
     "text": [
      "\n",
      "Métriques d'équité statistique en train:\n",
      "Disparate Impact: 1.3371189917936694\n",
      "Statistical Parity Difference: 0.11379544026790528\n",
      "\n",
      "Métriques d'équité statistique en test:\n",
      "Disparate Impact: 1.1975308641975309\n",
      "Statistical Parity Difference: 0.07407407407407407\n"
     ]
    }
   ],
   "source": [
    "# Application\n",
    "calculate_fairness_metrics(X_train, y_train, \"train\", 'SEX')\n",
    "calculate_fairness_metrics(X_test, y_test, \"test\", 'SEX')"
   ]
  },
  {
   "cell_type": "markdown",
   "metadata": {},
   "source": [
    "### Apprentissage sans la feature 'SEX' et calcul des métriques d'équité"
   ]
  },
  {
   "cell_type": "code",
   "execution_count": 149,
   "metadata": {},
   "outputs": [],
   "source": [
    "# Retrait de l'attribut SEX dans la data\n",
    "# Remarque : Nous pouvons directement utilisé DROP sans avoir à relire les fichiers CSV\n",
    "\n",
    "X_train_no_sex = X_train.drop('SEX', axis=1)\n",
    "X_test_no_sex = X_test.drop('SEX', axis=1)"
   ]
  },
  {
   "cell_type": "code",
   "execution_count": 123,
   "metadata": {},
   "outputs": [
    {
     "data": {
      "text/html": [
       "<style>#sk-container-id-6 {color: black;}#sk-container-id-6 pre{padding: 0;}#sk-container-id-6 div.sk-toggleable {background-color: white;}#sk-container-id-6 label.sk-toggleable__label {cursor: pointer;display: block;width: 100%;margin-bottom: 0;padding: 0.3em;box-sizing: border-box;text-align: center;}#sk-container-id-6 label.sk-toggleable__label-arrow:before {content: \"▸\";float: left;margin-right: 0.25em;color: #696969;}#sk-container-id-6 label.sk-toggleable__label-arrow:hover:before {color: black;}#sk-container-id-6 div.sk-estimator:hover label.sk-toggleable__label-arrow:before {color: black;}#sk-container-id-6 div.sk-toggleable__content {max-height: 0;max-width: 0;overflow: hidden;text-align: left;background-color: #f0f8ff;}#sk-container-id-6 div.sk-toggleable__content pre {margin: 0.2em;color: black;border-radius: 0.25em;background-color: #f0f8ff;}#sk-container-id-6 input.sk-toggleable__control:checked~div.sk-toggleable__content {max-height: 200px;max-width: 100%;overflow: auto;}#sk-container-id-6 input.sk-toggleable__control:checked~label.sk-toggleable__label-arrow:before {content: \"▾\";}#sk-container-id-6 div.sk-estimator input.sk-toggleable__control:checked~label.sk-toggleable__label {background-color: #d4ebff;}#sk-container-id-6 div.sk-label input.sk-toggleable__control:checked~label.sk-toggleable__label {background-color: #d4ebff;}#sk-container-id-6 input.sk-hidden--visually {border: 0;clip: rect(1px 1px 1px 1px);clip: rect(1px, 1px, 1px, 1px);height: 1px;margin: -1px;overflow: hidden;padding: 0;position: absolute;width: 1px;}#sk-container-id-6 div.sk-estimator {font-family: monospace;background-color: #f0f8ff;border: 1px dotted black;border-radius: 0.25em;box-sizing: border-box;margin-bottom: 0.5em;}#sk-container-id-6 div.sk-estimator:hover {background-color: #d4ebff;}#sk-container-id-6 div.sk-parallel-item::after {content: \"\";width: 100%;border-bottom: 1px solid gray;flex-grow: 1;}#sk-container-id-6 div.sk-label:hover label.sk-toggleable__label {background-color: #d4ebff;}#sk-container-id-6 div.sk-serial::before {content: \"\";position: absolute;border-left: 1px solid gray;box-sizing: border-box;top: 0;bottom: 0;left: 50%;z-index: 0;}#sk-container-id-6 div.sk-serial {display: flex;flex-direction: column;align-items: center;background-color: white;padding-right: 0.2em;padding-left: 0.2em;position: relative;}#sk-container-id-6 div.sk-item {position: relative;z-index: 1;}#sk-container-id-6 div.sk-parallel {display: flex;align-items: stretch;justify-content: center;background-color: white;position: relative;}#sk-container-id-6 div.sk-item::before, #sk-container-id-6 div.sk-parallel-item::before {content: \"\";position: absolute;border-left: 1px solid gray;box-sizing: border-box;top: 0;bottom: 0;left: 50%;z-index: -1;}#sk-container-id-6 div.sk-parallel-item {display: flex;flex-direction: column;z-index: 1;position: relative;background-color: white;}#sk-container-id-6 div.sk-parallel-item:first-child::after {align-self: flex-end;width: 50%;}#sk-container-id-6 div.sk-parallel-item:last-child::after {align-self: flex-start;width: 50%;}#sk-container-id-6 div.sk-parallel-item:only-child::after {width: 0;}#sk-container-id-6 div.sk-dashed-wrapped {border: 1px dashed gray;margin: 0 0.4em 0.5em 0.4em;box-sizing: border-box;padding-bottom: 0.4em;background-color: white;}#sk-container-id-6 div.sk-label label {font-family: monospace;font-weight: bold;display: inline-block;line-height: 1.2em;}#sk-container-id-6 div.sk-label-container {text-align: center;}#sk-container-id-6 div.sk-container {/* jupyter's `normalize.less` sets `[hidden] { display: none; }` but bootstrap.min.css set `[hidden] { display: none !important; }` so we also need the `!important` here to be able to override the default hidden behavior on the sphinx rendered scikit-learn.org. See: https://github.com/scikit-learn/scikit-learn/issues/21755 */display: inline-block !important;position: relative;}#sk-container-id-6 div.sk-text-repr-fallback {display: none;}</style><div id=\"sk-container-id-6\" class=\"sk-top-container\"><div class=\"sk-text-repr-fallback\"><pre>GradientBoostingClassifier(max_depth=5, min_samples_leaf=0.1,\n",
       "                           min_samples_split=0.1, n_estimators=14)</pre><b>In a Jupyter environment, please rerun this cell to show the HTML representation or trust the notebook. <br />On GitHub, the HTML representation is unable to render, please try loading this page with nbviewer.org.</b></div><div class=\"sk-container\" hidden><div class=\"sk-item\"><div class=\"sk-estimator sk-toggleable\"><input class=\"sk-toggleable__control sk-hidden--visually\" id=\"sk-estimator-id-6\" type=\"checkbox\" checked><label for=\"sk-estimator-id-6\" class=\"sk-toggleable__label sk-toggleable__label-arrow\">GradientBoostingClassifier</label><div class=\"sk-toggleable__content\"><pre>GradientBoostingClassifier(max_depth=5, min_samples_leaf=0.1,\n",
       "                           min_samples_split=0.1, n_estimators=14)</pre></div></div></div></div></div>"
      ],
      "text/plain": [
       "GradientBoostingClassifier(max_depth=5, min_samples_leaf=0.1,\n",
       "                           min_samples_split=0.1, n_estimators=14)"
      ]
     },
     "execution_count": 123,
     "metadata": {},
     "output_type": "execute_result"
    }
   ],
   "source": [
    "# Réentraînement les modèles sans la feature 'SEX'\n",
    "svm_model_no_sex = svm.SVC(kernel='linear')\n",
    "svm_model_no_sex.fit(X_train_no_sex, np.ravel(y_train))\n",
    "\n",
    "rf_model_no_sex = RandomForestClassifier(max_features='log2', min_samples_split=10, n_estimators=200)\n",
    "rf_model_no_sex.fit(X_train_no_sex, np.ravel(y_train))\n",
    "\n",
    "adaboost_model_no_sex = AdaBoostClassifier(learning_rate=0.1)\n",
    "adaboost_model_no_sex.fit(X_train_no_sex, np.ravel(y_train))\n",
    "\n",
    "gb_model_no_sex = GradientBoostingClassifier(max_depth=5, min_samples_leaf=0.1, min_samples_split=0.1, n_estimators=14)\n",
    "gb_model_no_sex.fit(X_train_no_sex, np.ravel(y_train))"
   ]
  },
  {
   "cell_type": "code",
   "execution_count": 179,
   "metadata": {},
   "outputs": [
    {
     "name": "stdout",
     "output_type": "stream",
     "text": [
      "Confusion Matrix :\n",
      "  [[157  72]\n",
      " [115  48]]\n",
      "Confusion Matrix :\n",
      "  [[134  95]\n",
      " [ 94  69]]\n",
      "Confusion Matrix :\n",
      "  [[144  85]\n",
      " [112  51]]\n",
      "Confusion Matrix :\n",
      "  [[134  95]\n",
      " [104  59]]\n"
     ]
    }
   ],
   "source": [
    "# Calcul des métriques d'équité sans la feature 'SEX'\n",
    "# Exemple de la confusion matrix\n",
    "displayConfusionMatrix(svm_model_no_sex, X_test_no_sex, y_test)\n",
    "displayConfusionMatrix(rf_model_no_sex, X_test_no_sex, y_test)\n",
    "displayConfusionMatrix(adaboost_model_no_sex, X_test_no_sex, y_test)\n",
    "displayConfusionMatrix(gb_model_no_sex, X_test_no_sex, y_test)"
   ]
  },
  {
   "cell_type": "markdown",
   "metadata": {},
   "source": [
    "### La matrice de confusion pour chaque valeur du RAC1P (et pour chaque modèle)"
   ]
  },
  {
   "cell_type": "code",
   "execution_count": 182,
   "metadata": {},
   "outputs": [],
   "source": [
    "X_train, X_test, y_train, y_test = train_test_split(X, y, test_size=0.2, random_state=450)"
   ]
  },
  {
   "cell_type": "code",
   "execution_count": 164,
   "metadata": {},
   "outputs": [
    {
     "name": "stdout",
     "output_type": "stream",
     "text": [
      "Matrice de confusion pour SVC avec RAC1P='1':\n",
      "[[59646  7710]\n",
      " [20535 33115]]\n",
      "Matrice de confusion pour SVC avec RAC1P='2':\n",
      "[[4918  688]\n",
      " [1463 1488]]\n",
      "Matrice de confusion pour SVC avec RAC1P='3':\n",
      "[[835  92]\n",
      " [184 183]]\n",
      "Matrice de confusion pour SVC avec RAC1P='4':\n",
      "[[6 2]\n",
      " [1 4]]\n",
      "Matrice de confusion pour SVC avec RAC1P='5':\n",
      "[[324  30]\n",
      " [ 56  40]]\n",
      "Matrice de confusion pour SVC avec RAC1P='6':\n",
      "[[14086  2906]\n",
      " [ 5128 10589]]\n",
      "Matrice de confusion pour SVC avec RAC1P='7':\n",
      "[[399  48]\n",
      " [108  82]]\n",
      "Matrice de confusion pour SVC avec RAC1P='8':\n",
      "[[17462   903]\n",
      " [ 2836  1592]]\n",
      "Matrice de confusion pour SVC avec RAC1P='9':\n",
      "[[4663  612]\n",
      " [1083 1848]]\n",
      "Matrice de confusion pour RandomForestClassifier avec RAC1P='1':\n",
      "[[55361 11995]\n",
      " [12165 41485]]\n",
      "Matrice de confusion pour RandomForestClassifier avec RAC1P='2':\n",
      "[[4582 1024]\n",
      " [ 891 2060]]\n",
      "Matrice de confusion pour RandomForestClassifier avec RAC1P='3':\n",
      "[[792 135]\n",
      " [108 259]]\n",
      "Matrice de confusion pour RandomForestClassifier avec RAC1P='4':\n",
      "[[6 2]\n",
      " [0 5]]\n",
      "Matrice de confusion pour RandomForestClassifier avec RAC1P='5':\n",
      "[[316  38]\n",
      " [ 41  55]]\n",
      "Matrice de confusion pour RandomForestClassifier avec RAC1P='6':\n",
      "[[13458  3534]\n",
      " [ 3155 12562]]\n",
      "Matrice de confusion pour RandomForestClassifier avec RAC1P='7':\n",
      "[[388  59]\n",
      " [ 82 108]]\n",
      "Matrice de confusion pour RandomForestClassifier avec RAC1P='8':\n",
      "[[17304  1061]\n",
      " [ 2561  1867]]\n",
      "Matrice de confusion pour RandomForestClassifier avec RAC1P='9':\n",
      "[[4506  769]\n",
      " [ 773 2158]]\n",
      "Matrice de confusion pour AdaBoostClassifier avec RAC1P='1':\n",
      "[[58099  9257]\n",
      " [18607 35043]]\n",
      "Matrice de confusion pour AdaBoostClassifier avec RAC1P='2':\n",
      "[[4844  762]\n",
      " [1260 1691]]\n",
      "Matrice de confusion pour AdaBoostClassifier avec RAC1P='3':\n",
      "[[825 102]\n",
      " [169 198]]\n",
      "Matrice de confusion pour AdaBoostClassifier avec RAC1P='4':\n",
      "[[7 1]\n",
      " [0 5]]\n",
      "Matrice de confusion pour AdaBoostClassifier avec RAC1P='5':\n",
      "[[330  24]\n",
      " [ 55  41]]\n",
      "Matrice de confusion pour AdaBoostClassifier avec RAC1P='6':\n",
      "[[13673  3319]\n",
      " [ 3753 11964]]\n",
      "Matrice de confusion pour AdaBoostClassifier avec RAC1P='7':\n",
      "[[398  49]\n",
      " [106  84]]\n",
      "Matrice de confusion pour AdaBoostClassifier avec RAC1P='8':\n",
      "[[17309  1056]\n",
      " [ 2769  1659]]\n",
      "Matrice de confusion pour AdaBoostClassifier avec RAC1P='9':\n",
      "[[4680  595]\n",
      " [1063 1868]]\n",
      "Matrice de confusion pour GradientBoostingClassifier avec RAC1P='1':\n",
      "[[54793 12563]\n",
      " [14065 39585]]\n",
      "Matrice de confusion pour GradientBoostingClassifier avec RAC1P='2':\n",
      "[[4598 1008]\n",
      " [1028 1923]]\n",
      "Matrice de confusion pour GradientBoostingClassifier avec RAC1P='3':\n",
      "[[793 134]\n",
      " [131 236]]\n",
      "Matrice de confusion pour GradientBoostingClassifier avec RAC1P='4':\n",
      "[[7 1]\n",
      " [0 5]]\n",
      "Matrice de confusion pour GradientBoostingClassifier avec RAC1P='5':\n",
      "[[314  40]\n",
      " [ 48  48]]\n",
      "Matrice de confusion pour GradientBoostingClassifier avec RAC1P='6':\n",
      "[[13323  3669]\n",
      " [ 3504 12213]]\n",
      "Matrice de confusion pour GradientBoostingClassifier avec RAC1P='7':\n",
      "[[379  68]\n",
      " [ 91  99]]\n",
      "Matrice de confusion pour GradientBoostingClassifier avec RAC1P='8':\n",
      "[[17013  1352]\n",
      " [ 2545  1883]]\n",
      "Matrice de confusion pour GradientBoostingClassifier avec RAC1P='9':\n",
      "[[4482  793]\n",
      " [ 871 2060]]\n"
     ]
    }
   ],
   "source": [
    "models = [bestSVMClassifier, bestRandomForestClassifier, bestAdaBoostClassifier, bestGradientBoostingClassifier]\n",
    "race_values = [1, 2, 3, 4, 5, 6, 7, 8, 9]\n",
    "\n",
    "for model in models:\n",
    "    for race_value in race_values:\n",
    "        # Sous-ensembles basés sur la valeur de 'RAC1P'\n",
    "        X_test_subset = X_all[X_all['RAC1P'] == race_value]\n",
    "        y_test_subset = y_all[X_all['RAC1P'] == race_value]\n",
    "\n",
    "        if(y_test_subset.shape[0] > 0):\n",
    "            # Prédiction du modèle\n",
    "            predictions = model.predict(X_test_subset)\n",
    "\n",
    "            # Calcul de la matrice de confusion\n",
    "            cm = confusion_matrix(y_test_subset, predictions)\n",
    "            print(f\"Matrice de confusion pour {model.__class__.__name__} avec RAC1P='{race_value}':\")\n",
    "            print(cm)"
   ]
  },
  {
   "cell_type": "markdown",
   "metadata": {},
   "source": [
    "### Calcul de 2 métriques d'équité statistique en train et en test pour l'attribut sensible étant le RAC1P"
   ]
  },
  {
   "cell_type": "code",
   "execution_count": 174,
   "metadata": {},
   "outputs": [],
   "source": [
    "# Fonction de Calcul de 2 métriques d'équité statistique en train et en test pour un attribut sensible\n",
    "def calculate_fairness_metrics(X, y, type, sensitive_feature = \"RAC1P\"):\n",
    "    dataset = BinaryLabelDataset(df=pd.concat([X, y], axis=1),\n",
    "                                  label_names=['PINCP'], protected_attribute_names=[sensitive_feature])\n",
    "   \n",
    "    unprivileged_groups=[\n",
    "        {sensitive_feature: 2},\n",
    "        {sensitive_feature: 3},\n",
    "        {sensitive_feature: 4},\n",
    "        {sensitive_feature: 5},\n",
    "        {sensitive_feature: 6},\n",
    "        {sensitive_feature: 8},\n",
    "        {sensitive_feature: 9}\n",
    "    ]\n",
    "    privileged_groups=[\n",
    "        {sensitive_feature: 1}\n",
    "    ]\n",
    "\n",
    "    metric = BinaryLabelDatasetMetric(dataset, unprivileged_groups=unprivileged_groups, privileged_groups=privileged_groups)\n",
    "    print(f\"\\nMétriques d'équité statistique en {type}:\")\n",
    "    print(\"Disparate Impact:\", metric.disparate_impact())\n",
    "    print(\"Statistical Parity Difference:\", metric.statistical_parity_difference())"
   ]
  },
  {
   "cell_type": "code",
   "execution_count": 176,
   "metadata": {},
   "outputs": [
    {
     "name": "stdout",
     "output_type": "stream",
     "text": [
      "\n",
      "Métriques d'équité statistique en train:\n",
      "Disparate Impact: 0.8605857230018304\n",
      "Statistical Parity Difference: -0.05898296334537945\n",
      "\n",
      "Métriques d'équité statistique en test:\n",
      "Disparate Impact: 0.9793988517392773\n",
      "Statistical Parity Difference: -0.008652482269503547\n"
     ]
    }
   ],
   "source": [
    "# Application\n",
    "calculate_fairness_metrics(X_train, y_train, \"train\", 'RAC1P')\n",
    "calculate_fairness_metrics(X_test, y_test, \"test\", 'RAC1P')"
   ]
  },
  {
   "cell_type": "markdown",
   "metadata": {},
   "source": [
    "### Apprentissage sans la feature 'RAC1P' et calcul des métriques d'équité"
   ]
  },
  {
   "cell_type": "code",
   "execution_count": 183,
   "metadata": {},
   "outputs": [],
   "source": [
    "# Retrait de l'attribut RAC1P dans la data\n",
    "# Remarque : Nous pouvons directement utilisé DROP sans avoir à relire les fichiers CSV\n",
    "\n",
    "X_train_no_race = X_train.drop('RAC1P', axis=1)\n",
    "X_test_no_race = X_test.drop('RAC1P', axis=1)"
   ]
  },
  {
   "cell_type": "code",
   "execution_count": 184,
   "metadata": {},
   "outputs": [
    {
     "data": {
      "text/html": [
       "<style>#sk-container-id-9 {color: black;}#sk-container-id-9 pre{padding: 0;}#sk-container-id-9 div.sk-toggleable {background-color: white;}#sk-container-id-9 label.sk-toggleable__label {cursor: pointer;display: block;width: 100%;margin-bottom: 0;padding: 0.3em;box-sizing: border-box;text-align: center;}#sk-container-id-9 label.sk-toggleable__label-arrow:before {content: \"▸\";float: left;margin-right: 0.25em;color: #696969;}#sk-container-id-9 label.sk-toggleable__label-arrow:hover:before {color: black;}#sk-container-id-9 div.sk-estimator:hover label.sk-toggleable__label-arrow:before {color: black;}#sk-container-id-9 div.sk-toggleable__content {max-height: 0;max-width: 0;overflow: hidden;text-align: left;background-color: #f0f8ff;}#sk-container-id-9 div.sk-toggleable__content pre {margin: 0.2em;color: black;border-radius: 0.25em;background-color: #f0f8ff;}#sk-container-id-9 input.sk-toggleable__control:checked~div.sk-toggleable__content {max-height: 200px;max-width: 100%;overflow: auto;}#sk-container-id-9 input.sk-toggleable__control:checked~label.sk-toggleable__label-arrow:before {content: \"▾\";}#sk-container-id-9 div.sk-estimator input.sk-toggleable__control:checked~label.sk-toggleable__label {background-color: #d4ebff;}#sk-container-id-9 div.sk-label input.sk-toggleable__control:checked~label.sk-toggleable__label {background-color: #d4ebff;}#sk-container-id-9 input.sk-hidden--visually {border: 0;clip: rect(1px 1px 1px 1px);clip: rect(1px, 1px, 1px, 1px);height: 1px;margin: -1px;overflow: hidden;padding: 0;position: absolute;width: 1px;}#sk-container-id-9 div.sk-estimator {font-family: monospace;background-color: #f0f8ff;border: 1px dotted black;border-radius: 0.25em;box-sizing: border-box;margin-bottom: 0.5em;}#sk-container-id-9 div.sk-estimator:hover {background-color: #d4ebff;}#sk-container-id-9 div.sk-parallel-item::after {content: \"\";width: 100%;border-bottom: 1px solid gray;flex-grow: 1;}#sk-container-id-9 div.sk-label:hover label.sk-toggleable__label {background-color: #d4ebff;}#sk-container-id-9 div.sk-serial::before {content: \"\";position: absolute;border-left: 1px solid gray;box-sizing: border-box;top: 0;bottom: 0;left: 50%;z-index: 0;}#sk-container-id-9 div.sk-serial {display: flex;flex-direction: column;align-items: center;background-color: white;padding-right: 0.2em;padding-left: 0.2em;position: relative;}#sk-container-id-9 div.sk-item {position: relative;z-index: 1;}#sk-container-id-9 div.sk-parallel {display: flex;align-items: stretch;justify-content: center;background-color: white;position: relative;}#sk-container-id-9 div.sk-item::before, #sk-container-id-9 div.sk-parallel-item::before {content: \"\";position: absolute;border-left: 1px solid gray;box-sizing: border-box;top: 0;bottom: 0;left: 50%;z-index: -1;}#sk-container-id-9 div.sk-parallel-item {display: flex;flex-direction: column;z-index: 1;position: relative;background-color: white;}#sk-container-id-9 div.sk-parallel-item:first-child::after {align-self: flex-end;width: 50%;}#sk-container-id-9 div.sk-parallel-item:last-child::after {align-self: flex-start;width: 50%;}#sk-container-id-9 div.sk-parallel-item:only-child::after {width: 0;}#sk-container-id-9 div.sk-dashed-wrapped {border: 1px dashed gray;margin: 0 0.4em 0.5em 0.4em;box-sizing: border-box;padding-bottom: 0.4em;background-color: white;}#sk-container-id-9 div.sk-label label {font-family: monospace;font-weight: bold;display: inline-block;line-height: 1.2em;}#sk-container-id-9 div.sk-label-container {text-align: center;}#sk-container-id-9 div.sk-container {/* jupyter's `normalize.less` sets `[hidden] { display: none; }` but bootstrap.min.css set `[hidden] { display: none !important; }` so we also need the `!important` here to be able to override the default hidden behavior on the sphinx rendered scikit-learn.org. See: https://github.com/scikit-learn/scikit-learn/issues/21755 */display: inline-block !important;position: relative;}#sk-container-id-9 div.sk-text-repr-fallback {display: none;}</style><div id=\"sk-container-id-9\" class=\"sk-top-container\"><div class=\"sk-text-repr-fallback\"><pre>GradientBoostingClassifier(max_depth=5, min_samples_leaf=0.1,\n",
       "                           min_samples_split=0.1, n_estimators=14)</pre><b>In a Jupyter environment, please rerun this cell to show the HTML representation or trust the notebook. <br />On GitHub, the HTML representation is unable to render, please try loading this page with nbviewer.org.</b></div><div class=\"sk-container\" hidden><div class=\"sk-item\"><div class=\"sk-estimator sk-toggleable\"><input class=\"sk-toggleable__control sk-hidden--visually\" id=\"sk-estimator-id-9\" type=\"checkbox\" checked><label for=\"sk-estimator-id-9\" class=\"sk-toggleable__label sk-toggleable__label-arrow\">GradientBoostingClassifier</label><div class=\"sk-toggleable__content\"><pre>GradientBoostingClassifier(max_depth=5, min_samples_leaf=0.1,\n",
       "                           min_samples_split=0.1, n_estimators=14)</pre></div></div></div></div></div>"
      ],
      "text/plain": [
       "GradientBoostingClassifier(max_depth=5, min_samples_leaf=0.1,\n",
       "                           min_samples_split=0.1, n_estimators=14)"
      ]
     },
     "execution_count": 184,
     "metadata": {},
     "output_type": "execute_result"
    }
   ],
   "source": [
    "# Réentraînement les modèles sans la feature 'RAC1P'\n",
    "svm_model_no_race = svm.SVC(kernel='linear')\n",
    "svm_model_no_race.fit(X_train_no_race, np.ravel(y_train))\n",
    "\n",
    "rf_model_no_race = RandomForestClassifier(max_features='log2', min_samples_split=10, n_estimators=200)\n",
    "rf_model_no_race.fit(X_train_no_race, np.ravel(y_train))\n",
    "\n",
    "adaboost_model_no_race = AdaBoostClassifier(learning_rate=0.1)\n",
    "adaboost_model_no_race.fit(X_train_no_race, np.ravel(y_train))\n",
    "\n",
    "gb_model_no_race = GradientBoostingClassifier(max_depth=5, min_samples_leaf=0.1, min_samples_split=0.1, n_estimators=14)\n",
    "gb_model_no_race.fit(X_train_no_race, np.ravel(y_train))"
   ]
  },
  {
   "cell_type": "code",
   "execution_count": 186,
   "metadata": {},
   "outputs": [
    {
     "name": "stdout",
     "output_type": "stream",
     "text": [
      "Confusion Matrix :\n",
      "  [[193  36]\n",
      " [ 69  94]]\n",
      "Confusion Matrix :\n",
      "  [[180  49]\n",
      " [ 44 119]]\n",
      "Confusion Matrix :\n",
      "  [[190  39]\n",
      " [ 56 107]]\n",
      "Confusion Matrix :\n",
      "  [[188  41]\n",
      " [ 55 108]]\n"
     ]
    }
   ],
   "source": [
    "# Calcul des métriques d'équité sans la feature 'RAC1P'\n",
    "# Exemple de la confusion matrix\n",
    "displayConfusionMatrix(svm_model_no_race, X_test_no_race, y_test)\n",
    "displayConfusionMatrix(rf_model_no_race, X_test_no_race, y_test)\n",
    "displayConfusionMatrix(adaboost_model_no_race, X_test_no_race, y_test)\n",
    "displayConfusionMatrix(gb_model_no_race, X_test_no_race, y_test)"
   ]
  }
 ],
 "metadata": {
  "kernelspec": {
   "display_name": "tp_supervised_learnig",
   "language": "python",
   "name": "python3"
  },
  "language_info": {
   "codemirror_mode": {
    "name": "ipython",
    "version": 3
   },
   "file_extension": ".py",
   "mimetype": "text/x-python",
   "name": "python",
   "nbconvert_exporter": "python",
   "pygments_lexer": "ipython3",
   "version": "3.11.3"
  }
 },
 "nbformat": 4,
 "nbformat_minor": 2
}
